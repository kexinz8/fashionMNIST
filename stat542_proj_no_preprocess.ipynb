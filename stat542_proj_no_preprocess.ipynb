{
  "cells": [
    {
      "cell_type": "code",
      "execution_count": 1,
      "id": "5a1d974f",
      "metadata": {
        "id": "5a1d974f"
      },
      "outputs": [],
      "source": [
        "import pandas as pd\n",
        "import numpy as np\n",
        "\n",
        "from sklearn.datasets import make_classification\n",
        "from sklearn.model_selection import cross_val_score\n",
        "\n",
        "from sklearn import metrics"
      ]
    },
    {
      "cell_type": "code",
      "execution_count": null,
      "id": "fcd100f6",
      "metadata": {
        "id": "fcd100f6"
      },
      "outputs": [],
      "source": [
        "# import data\n",
        "import tensorflow as tf\n",
        "from tensorflow.keras.datasets import fashion_mnist\n",
        "(train_data, train_labels), (test_data, test_labels) = fashion_mnist.load_data()"
      ]
    },
    {
      "cell_type": "code",
      "source": [
        "train_x = train_data.reshape(train_data.shape[0], -1).astype('float32')\n",
        "test_x = test_data.reshape(test_data.shape[0], -1).astype('float32')"
      ],
      "metadata": {
        "id": "TOvvHQFVuVKU"
      },
      "id": "TOvvHQFVuVKU",
      "execution_count": 3,
      "outputs": []
    },
    {
      "cell_type": "markdown",
      "id": "b89cfd2d",
      "metadata": {
        "id": "b89cfd2d"
      },
      "source": [
        "# LightGBM"
      ]
    },
    {
      "cell_type": "code",
      "execution_count": null,
      "id": "38a2fbf7",
      "metadata": {
        "id": "38a2fbf7"
      },
      "outputs": [],
      "source": [
        "from lightgbm import LGBMClassifier"
      ]
    },
    {
      "cell_type": "code",
      "execution_count": null,
      "id": "542b30b3",
      "metadata": {
        "id": "542b30b3"
      },
      "outputs": [],
      "source": [
        "lgb_model = LGBMClassifier(objective='multiclass',path_smooth = 0.2)"
      ]
    },
    {
      "cell_type": "code",
      "execution_count": null,
      "id": "b4059e5e",
      "metadata": {
        "id": "b4059e5e",
        "outputId": "96bcd8de-1b6b-41fa-f71b-3f3b431365c9"
      },
      "outputs": [
        {
          "name": "stderr",
          "output_type": "stream",
          "text": [
            "C:\\Users\\asus\\anaconda3\\lib\\site-packages\\lightgbm\\basic.py:2065: UserWarning: Using categorical_feature in Dataset.\n",
            "  _log_warning('Using categorical_feature in Dataset.')\n"
          ]
        },
        {
          "data": {
            "text/plain": [
              "LGBMClassifier(objective='multiclass', path_smooth=0.2)"
            ]
          },
          "execution_count": 47,
          "metadata": {},
          "output_type": "execute_result"
        }
      ],
      "source": [
        "lgb_model.fit(train_x,train_labels,categorical_feature=[0,3])"
      ]
    },
    {
      "cell_type": "code",
      "execution_count": null,
      "id": "256ee1d6",
      "metadata": {
        "id": "256ee1d6",
        "outputId": "afef0e26-fe74-4481-8dba-05cad51782ca"
      },
      "outputs": [
        {
          "name": "stdout",
          "output_type": "stream",
          "text": [
            "              precision    recall  f1-score   support\n",
            "\n",
            "           0       0.84      0.86      0.85      1000\n",
            "           1       1.00      0.97      0.98      1000\n",
            "           2       0.80      0.83      0.81      1000\n",
            "           3       0.89      0.90      0.90      1000\n",
            "           4       0.80      0.83      0.82      1000\n",
            "           5       0.99      0.97      0.98      1000\n",
            "           6       0.72      0.66      0.69      1000\n",
            "           7       0.95      0.97      0.96      1000\n",
            "           8       0.98      0.97      0.98      1000\n",
            "           9       0.97      0.96      0.96      1000\n",
            "\n",
            "    accuracy                           0.89     10000\n",
            "   macro avg       0.89      0.89      0.89     10000\n",
            "weighted avg       0.89      0.89      0.89     10000\n",
            "\n"
          ]
        }
      ],
      "source": [
        "expected_y  = test_labels\n",
        "predicted_y = lgb_model.predict(test_x)\n",
        "lightGBM_pred_y = predicted_y\n",
        "print(metrics.classification_report(expected_y, predicted_y))"
      ]
    },
    {
      "cell_type": "code",
      "execution_count": null,
      "id": "21fb155a",
      "metadata": {
        "id": "21fb155a"
      },
      "outputs": [],
      "source": [
        "# dont run this part, i'm still tuning\n",
        "err_list = []\n",
        "for i in np.arange(0.0, 1.0, 0.1):\n",
        "    model = LGBMClassifier(objective='multiclass',path_smooth = i)\n",
        "    model.fit(X_train,y_train,categorical_feature=[0,3])\n",
        "    predictions = model.predict(X_test)\n",
        "    error = sum(predictions!=y_test)/len(y_test)\n",
        "    err_list.append(error)\n",
        "err_list"
      ]
    },
    {
      "cell_type": "code",
      "execution_count": null,
      "id": "98c79bed",
      "metadata": {
        "id": "98c79bed"
      },
      "outputs": [],
      "source": [
        "# dont run this part, i'm still tuning\n",
        "err_list = []\n",
        "for i in np.arange(0.0, 1.0, 0.1):\n",
        "    model = LGBMClassifier(objective='multiclass',path_smooth = i)\n",
        "    model.fit(X_train,y_train,categorical_feature=[0,3])\n",
        "    predictions = model.predict(X_test)\n",
        "    error = sum(predictions!=y_test)/len(y_test)\n",
        "    err_list.append(error)\n",
        "err_list"
      ]
    },
    {
      "cell_type": "markdown",
      "id": "23429c60",
      "metadata": {
        "id": "23429c60"
      },
      "source": [
        "# LDA"
      ]
    },
    {
      "cell_type": "code",
      "execution_count": null,
      "id": "abfbf016",
      "metadata": {
        "id": "abfbf016"
      },
      "outputs": [],
      "source": [
        "from sklearn.discriminant_analysis import LinearDiscriminantAnalysis as LDA"
      ]
    },
    {
      "cell_type": "code",
      "execution_count": null,
      "id": "8a6b7f7a",
      "metadata": {
        "id": "8a6b7f7a"
      },
      "outputs": [],
      "source": [
        "lda = LDA(n_components=9)"
      ]
    },
    {
      "cell_type": "code",
      "execution_count": null,
      "id": "f4823097",
      "metadata": {
        "id": "f4823097",
        "outputId": "b6762dbf-56fa-4da7-d629-c1a92db3dd72"
      },
      "outputs": [
        {
          "name": "stdout",
          "output_type": "stream",
          "text": [
            "              precision    recall  f1-score   support\n",
            "\n",
            "           0       0.82      0.78      0.80      1000\n",
            "           1       1.00      0.93      0.96      1000\n",
            "           2       0.71      0.70      0.71      1000\n",
            "           3       0.81      0.86      0.83      1000\n",
            "           4       0.71      0.74      0.73      1000\n",
            "           5       0.89      0.90      0.89      1000\n",
            "           6       0.56      0.57      0.57      1000\n",
            "           7       0.88      0.89      0.89      1000\n",
            "           8       0.94      0.93      0.93      1000\n",
            "           9       0.92      0.91      0.91      1000\n",
            "\n",
            "    accuracy                           0.82     10000\n",
            "   macro avg       0.82      0.82      0.82     10000\n",
            "weighted avg       0.82      0.82      0.82     10000\n",
            "\n"
          ]
        },
        {
          "name": "stderr",
          "output_type": "stream",
          "text": [
            "C:\\Users\\asus\\anaconda3\\lib\\site-packages\\sklearn\\base.py:445: UserWarning: X does not have valid feature names, but LinearDiscriminantAnalysis was fitted with feature names\n",
            "  warnings.warn(\n"
          ]
        }
      ],
      "source": [
        "expected_y  = test_labels\n",
        "predicted_y = lda_model.predict(test_x)\n",
        "lda_pred_y = predicted_y\n",
        "print(metrics.classification_report(expected_y, predicted_y))"
      ]
    },
    {
      "cell_type": "code",
      "execution_count": null,
      "id": "435896e9",
      "metadata": {
        "id": "435896e9",
        "outputId": "c20ab0a7-951d-431a-a487-9cfcb320e86f"
      },
      "outputs": [
        {
          "data": {
            "text/html": [
              "<div>\n",
              "<style scoped>\n",
              "    .dataframe tbody tr th:only-of-type {\n",
              "        vertical-align: middle;\n",
              "    }\n",
              "\n",
              "    .dataframe tbody tr th {\n",
              "        vertical-align: top;\n",
              "    }\n",
              "\n",
              "    .dataframe thead th {\n",
              "        text-align: right;\n",
              "    }\n",
              "</style>\n",
              "<table border=\"1\" class=\"dataframe\">\n",
              "  <thead>\n",
              "    <tr style=\"text-align: right;\">\n",
              "      <th></th>\n",
              "      <th>precision</th>\n",
              "      <th>recall</th>\n",
              "      <th>f1-score</th>\n",
              "      <th>support</th>\n",
              "    </tr>\n",
              "  </thead>\n",
              "  <tbody>\n",
              "    <tr>\n",
              "      <th>0</th>\n",
              "      <td>0.817801</td>\n",
              "      <td>0.7810</td>\n",
              "      <td>0.798977</td>\n",
              "      <td>1000.0000</td>\n",
              "    </tr>\n",
              "    <tr>\n",
              "      <th>1</th>\n",
              "      <td>0.998929</td>\n",
              "      <td>0.9330</td>\n",
              "      <td>0.964840</td>\n",
              "      <td>1000.0000</td>\n",
              "    </tr>\n",
              "    <tr>\n",
              "      <th>2</th>\n",
              "      <td>0.713415</td>\n",
              "      <td>0.7020</td>\n",
              "      <td>0.707661</td>\n",
              "      <td>1000.0000</td>\n",
              "    </tr>\n",
              "    <tr>\n",
              "      <th>3</th>\n",
              "      <td>0.807547</td>\n",
              "      <td>0.8560</td>\n",
              "      <td>0.831068</td>\n",
              "      <td>1000.0000</td>\n",
              "    </tr>\n",
              "    <tr>\n",
              "      <th>4</th>\n",
              "      <td>0.710878</td>\n",
              "      <td>0.7450</td>\n",
              "      <td>0.727539</td>\n",
              "      <td>1000.0000</td>\n",
              "    </tr>\n",
              "    <tr>\n",
              "      <th>5</th>\n",
              "      <td>0.890765</td>\n",
              "      <td>0.8970</td>\n",
              "      <td>0.893871</td>\n",
              "      <td>1000.0000</td>\n",
              "    </tr>\n",
              "    <tr>\n",
              "      <th>6</th>\n",
              "      <td>0.561765</td>\n",
              "      <td>0.5730</td>\n",
              "      <td>0.567327</td>\n",
              "      <td>1000.0000</td>\n",
              "    </tr>\n",
              "    <tr>\n",
              "      <th>7</th>\n",
              "      <td>0.884273</td>\n",
              "      <td>0.8940</td>\n",
              "      <td>0.889110</td>\n",
              "      <td>1000.0000</td>\n",
              "    </tr>\n",
              "    <tr>\n",
              "      <th>8</th>\n",
              "      <td>0.936299</td>\n",
              "      <td>0.9260</td>\n",
              "      <td>0.931121</td>\n",
              "      <td>1000.0000</td>\n",
              "    </tr>\n",
              "    <tr>\n",
              "      <th>9</th>\n",
              "      <td>0.916331</td>\n",
              "      <td>0.9090</td>\n",
              "      <td>0.912651</td>\n",
              "      <td>1000.0000</td>\n",
              "    </tr>\n",
              "    <tr>\n",
              "      <th>accuracy</th>\n",
              "      <td>0.821600</td>\n",
              "      <td>0.8216</td>\n",
              "      <td>0.821600</td>\n",
              "      <td>0.8216</td>\n",
              "    </tr>\n",
              "    <tr>\n",
              "      <th>macro avg</th>\n",
              "      <td>0.823800</td>\n",
              "      <td>0.8216</td>\n",
              "      <td>0.822416</td>\n",
              "      <td>10000.0000</td>\n",
              "    </tr>\n",
              "    <tr>\n",
              "      <th>weighted avg</th>\n",
              "      <td>0.823800</td>\n",
              "      <td>0.8216</td>\n",
              "      <td>0.822416</td>\n",
              "      <td>10000.0000</td>\n",
              "    </tr>\n",
              "  </tbody>\n",
              "</table>\n",
              "</div>"
            ],
            "text/plain": [
              "              precision  recall  f1-score     support\n",
              "0              0.817801  0.7810  0.798977   1000.0000\n",
              "1              0.998929  0.9330  0.964840   1000.0000\n",
              "2              0.713415  0.7020  0.707661   1000.0000\n",
              "3              0.807547  0.8560  0.831068   1000.0000\n",
              "4              0.710878  0.7450  0.727539   1000.0000\n",
              "5              0.890765  0.8970  0.893871   1000.0000\n",
              "6              0.561765  0.5730  0.567327   1000.0000\n",
              "7              0.884273  0.8940  0.889110   1000.0000\n",
              "8              0.936299  0.9260  0.931121   1000.0000\n",
              "9              0.916331  0.9090  0.912651   1000.0000\n",
              "accuracy       0.821600  0.8216  0.821600      0.8216\n",
              "macro avg      0.823800  0.8216  0.822416  10000.0000\n",
              "weighted avg   0.823800  0.8216  0.822416  10000.0000"
            ]
          },
          "execution_count": 85,
          "metadata": {},
          "output_type": "execute_result"
        }
      ],
      "source": [
        "report = metrics.classification_report(expected_y, predicted_y, output_dict=True)\n",
        "pd.DataFrame(report).transpose()"
      ]
    },
    {
      "cell_type": "markdown",
      "source": [
        "# Random Forest"
      ],
      "metadata": {
        "id": "KVwz6KXq13Sn"
      },
      "id": "KVwz6KXq13Sn"
    },
    {
      "cell_type": "code",
      "source": [
        "from sklearn.ensemble import RandomForestClassifier\n",
        "random_forest = RandomForestClassifier(criterion='entropy', max_depth=70, n_estimators=100)\n",
        "rf_fit=random_forest.fit(train_x, train_labels)"
      ],
      "metadata": {
        "id": "mItU-cie15ig"
      },
      "id": "mItU-cie15ig",
      "execution_count": 16,
      "outputs": []
    },
    {
      "cell_type": "code",
      "source": [
        "pred_forest = random_forest.predict(test_x)\n",
        "random_forest_accuracy = metrics.accuracy_score(test_labels, pred_forest)\n",
        "print(\"Test Accuracy score: {}\".format(random_forest_accuracy))\n",
        "print(metrics.classification_report(test_labels, pred_forest))"
      ],
      "metadata": {
        "id": "m8vZ_lxV2pPE",
        "outputId": "9e11e998-0cec-4726-d4d9-7d989154771f",
        "colab": {
          "base_uri": "https://localhost:8080/"
        }
      },
      "id": "m8vZ_lxV2pPE",
      "execution_count": 17,
      "outputs": [
        {
          "output_type": "stream",
          "name": "stdout",
          "text": [
            "Test Accuracy score: 0.8755\n",
            "              precision    recall  f1-score   support\n",
            "\n",
            "           0       0.82      0.86      0.84      1000\n",
            "           1       0.99      0.96      0.98      1000\n",
            "           2       0.77      0.80      0.78      1000\n",
            "           3       0.88      0.91      0.89      1000\n",
            "           4       0.77      0.81      0.79      1000\n",
            "           5       0.97      0.96      0.97      1000\n",
            "           6       0.72      0.59      0.65      1000\n",
            "           7       0.93      0.95      0.94      1000\n",
            "           8       0.95      0.97      0.96      1000\n",
            "           9       0.95      0.94      0.95      1000\n",
            "\n",
            "    accuracy                           0.88     10000\n",
            "   macro avg       0.87      0.88      0.87     10000\n",
            "weighted avg       0.87      0.88      0.87     10000\n",
            "\n"
          ]
        }
      ]
    },
    {
      "cell_type": "markdown",
      "id": "87067edd",
      "metadata": {
        "id": "87067edd"
      },
      "source": [
        "# SVM"
      ]
    },
    {
      "cell_type": "code",
      "execution_count": null,
      "id": "416cccde",
      "metadata": {
        "id": "416cccde"
      },
      "outputs": [],
      "source": [
        "from sklearn import svm\n",
        "import sklearn.model_selection as model_selection\n",
        "from sklearn.metrics import accuracy_score\n",
        "from sklearn.metrics import f1_score"
      ]
    },
    {
      "cell_type": "code",
      "execution_count": null,
      "id": "184de6fd",
      "metadata": {
        "id": "184de6fd"
      },
      "outputs": [],
      "source": [
        "# Use Ploynomial kernel \n",
        "svmpoly = svm.SVC(kernel='poly', degree=3, C=1).fit(train_x, train_labels)"
      ]
    },
    {
      "cell_type": "code",
      "execution_count": null,
      "id": "9e038eed",
      "metadata": {
        "id": "9e038eed",
        "outputId": "e34eee97-8c5d-4704-e6f7-45486396538a"
      },
      "outputs": [
        {
          "name": "stdout",
          "output_type": "stream",
          "text": [
            "              precision    recall  f1-score   support\n",
            "\n",
            "           0       0.79      0.84      0.81      1000\n",
            "           1       0.99      0.95      0.97      1000\n",
            "           2       0.80      0.78      0.79      1000\n",
            "           3       0.88      0.86      0.87      1000\n",
            "           4       0.83      0.76      0.79      1000\n",
            "           5       0.84      0.96      0.89      1000\n",
            "           6       0.66      0.69      0.68      1000\n",
            "           7       0.94      0.91      0.92      1000\n",
            "           8       0.97      0.94      0.95      1000\n",
            "           9       0.96      0.94      0.95      1000\n",
            "\n",
            "    accuracy                           0.86     10000\n",
            "   macro avg       0.87      0.86      0.86     10000\n",
            "weighted avg       0.87      0.86      0.86     10000\n",
            "\n"
          ]
        }
      ],
      "source": [
        "expected_y  = test_labels\n",
        "predicted_y = svmpoly.predict(test_x)\n",
        "SVM_pred_y = predicted_y\n",
        "print(metrics.classification_report(expected_y, predicted_y))"
      ]
    },
    {
      "cell_type": "code",
      "execution_count": null,
      "id": "c8926f00",
      "metadata": {
        "id": "c8926f00",
        "outputId": "b848c57f-5a89-43a4-8edb-1cbc89dfcfa9"
      },
      "outputs": [
        {
          "data": {
            "text/html": [
              "<div>\n",
              "<style scoped>\n",
              "    .dataframe tbody tr th:only-of-type {\n",
              "        vertical-align: middle;\n",
              "    }\n",
              "\n",
              "    .dataframe tbody tr th {\n",
              "        vertical-align: top;\n",
              "    }\n",
              "\n",
              "    .dataframe thead th {\n",
              "        text-align: right;\n",
              "    }\n",
              "</style>\n",
              "<table border=\"1\" class=\"dataframe\">\n",
              "  <thead>\n",
              "    <tr style=\"text-align: right;\">\n",
              "      <th></th>\n",
              "      <th>precision</th>\n",
              "      <th>recall</th>\n",
              "      <th>f1-score</th>\n",
              "      <th>support</th>\n",
              "    </tr>\n",
              "  </thead>\n",
              "  <tbody>\n",
              "    <tr>\n",
              "      <th>0</th>\n",
              "      <td>0.790019</td>\n",
              "      <td>0.839</td>\n",
              "      <td>0.813773</td>\n",
              "      <td>1000.000</td>\n",
              "    </tr>\n",
              "    <tr>\n",
              "      <th>1</th>\n",
              "      <td>0.991693</td>\n",
              "      <td>0.955</td>\n",
              "      <td>0.973001</td>\n",
              "      <td>1000.000</td>\n",
              "    </tr>\n",
              "    <tr>\n",
              "      <th>2</th>\n",
              "      <td>0.804145</td>\n",
              "      <td>0.776</td>\n",
              "      <td>0.789822</td>\n",
              "      <td>1000.000</td>\n",
              "    </tr>\n",
              "    <tr>\n",
              "      <th>3</th>\n",
              "      <td>0.878695</td>\n",
              "      <td>0.862</td>\n",
              "      <td>0.870268</td>\n",
              "      <td>1000.000</td>\n",
              "    </tr>\n",
              "    <tr>\n",
              "      <th>4</th>\n",
              "      <td>0.825708</td>\n",
              "      <td>0.758</td>\n",
              "      <td>0.790407</td>\n",
              "      <td>1000.000</td>\n",
              "    </tr>\n",
              "    <tr>\n",
              "      <th>5</th>\n",
              "      <td>0.835366</td>\n",
              "      <td>0.959</td>\n",
              "      <td>0.892924</td>\n",
              "      <td>1000.000</td>\n",
              "    </tr>\n",
              "    <tr>\n",
              "      <th>6</th>\n",
              "      <td>0.662500</td>\n",
              "      <td>0.689</td>\n",
              "      <td>0.675490</td>\n",
              "      <td>1000.000</td>\n",
              "    </tr>\n",
              "    <tr>\n",
              "      <th>7</th>\n",
              "      <td>0.936410</td>\n",
              "      <td>0.913</td>\n",
              "      <td>0.924557</td>\n",
              "      <td>1000.000</td>\n",
              "    </tr>\n",
              "    <tr>\n",
              "      <th>8</th>\n",
              "      <td>0.966084</td>\n",
              "      <td>0.940</td>\n",
              "      <td>0.952864</td>\n",
              "      <td>1000.000</td>\n",
              "    </tr>\n",
              "    <tr>\n",
              "      <th>9</th>\n",
              "      <td>0.963077</td>\n",
              "      <td>0.939</td>\n",
              "      <td>0.950886</td>\n",
              "      <td>1000.000</td>\n",
              "    </tr>\n",
              "    <tr>\n",
              "      <th>accuracy</th>\n",
              "      <td>0.863000</td>\n",
              "      <td>0.863</td>\n",
              "      <td>0.863000</td>\n",
              "      <td>0.863</td>\n",
              "    </tr>\n",
              "    <tr>\n",
              "      <th>macro avg</th>\n",
              "      <td>0.865370</td>\n",
              "      <td>0.863</td>\n",
              "      <td>0.863399</td>\n",
              "      <td>10000.000</td>\n",
              "    </tr>\n",
              "    <tr>\n",
              "      <th>weighted avg</th>\n",
              "      <td>0.865370</td>\n",
              "      <td>0.863</td>\n",
              "      <td>0.863399</td>\n",
              "      <td>10000.000</td>\n",
              "    </tr>\n",
              "  </tbody>\n",
              "</table>\n",
              "</div>"
            ],
            "text/plain": [
              "              precision  recall  f1-score    support\n",
              "0              0.790019   0.839  0.813773   1000.000\n",
              "1              0.991693   0.955  0.973001   1000.000\n",
              "2              0.804145   0.776  0.789822   1000.000\n",
              "3              0.878695   0.862  0.870268   1000.000\n",
              "4              0.825708   0.758  0.790407   1000.000\n",
              "5              0.835366   0.959  0.892924   1000.000\n",
              "6              0.662500   0.689  0.675490   1000.000\n",
              "7              0.936410   0.913  0.924557   1000.000\n",
              "8              0.966084   0.940  0.952864   1000.000\n",
              "9              0.963077   0.939  0.950886   1000.000\n",
              "accuracy       0.863000   0.863  0.863000      0.863\n",
              "macro avg      0.865370   0.863  0.863399  10000.000\n",
              "weighted avg   0.865370   0.863  0.863399  10000.000"
            ]
          },
          "execution_count": 101,
          "metadata": {},
          "output_type": "execute_result"
        }
      ],
      "source": [
        "report = metrics.classification_report(expected_y, predicted_y, output_dict=True)\n",
        "pd.DataFrame(report).transpose()"
      ]
    },
    {
      "cell_type": "code",
      "execution_count": null,
      "id": "c78c0887",
      "metadata": {
        "id": "c78c0887"
      },
      "outputs": [],
      "source": [
        "# to get the precision dictionary\n",
        "out = {}\n",
        "for i in range(0,10):\n",
        "    out.update({i:round(report[str(i)]['precision'],2)})"
      ]
    },
    {
      "cell_type": "code",
      "execution_count": null,
      "id": "6413f7b5",
      "metadata": {
        "id": "6413f7b5"
      },
      "outputs": [],
      "source": [
        "# create df of y_pred of test set for each model\n",
        "y_pred_test = pd.concat([pd.DataFrame(lightGBM_pred_y, columns = ['LightGBM']),\n",
        "           pd.DataFrame(lda_pred_y, columns = ['LDA']),\n",
        "           pd.DataFrame(SVM_pred_y, columns = ['SVM']),\n",
        "           pd.DataFrame(pred_forest, columns = ['RF']),],axis=1)"
      ]
    },
    {
      "cell_type": "code",
      "execution_count": null,
      "id": "0500a56e",
      "metadata": {
        "id": "0500a56e"
      },
      "outputs": [],
      "source": [
        "y_pred_test.to_csv('y_pred_test.csv')"
      ]
    },
    {
      "cell_type": "markdown",
      "source": [
        "## User defined function"
      ],
      "metadata": {
        "id": "rhdbl5naxr6R"
      },
      "id": "rhdbl5naxr6R"
    },
    {
      "cell_type": "code",
      "execution_count": 18,
      "id": "24b4de77",
      "metadata": {
        "id": "24b4de77"
      },
      "outputs": [],
      "source": [
        "# Construct the reference table\n",
        "ref1 = {0: 0.84, 1: 1.0, 2: 0.8, 3: 0.89, 4: 0.8, 5: 0.99, 6: 0.72, 7: 0.95, 8: 0.98, 9: 0.97}\n",
        "ref2 = {0: 0.82, 1: 1.0, 2: 0.71, 3: 0.81, 4: 0.71, 5: 0.89, 6: 0.56, 7: 0.88, 8: 0.94, 9: 0.92}\n",
        "ref3 = {0: 0.79, 1: 0.99, 2: 0.8, 3: 0.88, 4: 0.83, 5: 0.84, 6: 0.66, 7: 0.94, 8: 0.97, 9: 0.96}\n",
        "ref4 = {0:0.79, 1:0.99, 2:0.8, 3:0.88, 4:0.83, 5:0.84, 6:0.66, 7:0.94, 8:0.97, 9:0.96}\n",
        "ref_df = [ref1, ref2, ref3, ref4]"
      ]
    },
    {
      "cell_type": "code",
      "source": [
        "#cd sample_data"
      ],
      "metadata": {
        "id": "-R4qWmYw0LGQ",
        "outputId": "9ba6553e-a05d-47bb-dfe5-ab4c96f200aa",
        "colab": {
          "base_uri": "https://localhost:8080/"
        }
      },
      "id": "-R4qWmYw0LGQ",
      "execution_count": 7,
      "outputs": [
        {
          "output_type": "stream",
          "name": "stdout",
          "text": [
            "/content/sample_data\n"
          ]
        }
      ]
    },
    {
      "cell_type": "code",
      "source": [
        "ypred_org = pd.read_csv(\"y_pred_test.csv\")\n",
        "ypred = ypred_org.copy()"
      ],
      "metadata": {
        "id": "qcwqLL92x0NX"
      },
      "id": "qcwqLL92x0NX",
      "execution_count": 24,
      "outputs": []
    },
    {
      "cell_type": "code",
      "source": [
        "# represent the y_test_pred with according precision\n",
        "for i in range(ypred.shape[1]):\n",
        "   ypred.iloc[:,i] = ypred.iloc[:,i].replace(ref_df[i])\n",
        "\n",
        "ypred.columns = [1,2,3]\n",
        "ypred"
      ],
      "metadata": {
        "colab": {
          "base_uri": "https://localhost:8080/",
          "height": 423
        },
        "id": "zPrR_NUjy4yx",
        "outputId": "d8570a97-9dd2-4d15-b1ae-008abc5f0319"
      },
      "id": "zPrR_NUjy4yx",
      "execution_count": 25,
      "outputs": [
        {
          "output_type": "execute_result",
          "data": {
            "text/plain": [
              "         1     2     3\n",
              "0     0.97  0.92  0.96\n",
              "1     0.80  0.71  0.80\n",
              "2     1.00  1.00  0.99\n",
              "3     1.00  1.00  0.99\n",
              "4     0.72  0.56  0.66\n",
              "...    ...   ...   ...\n",
              "9995  0.97  0.92  0.96\n",
              "9996  1.00  1.00  0.99\n",
              "9997  0.98  0.56  0.97\n",
              "9998  1.00  1.00  0.99\n",
              "9999  0.99  0.89  0.84\n",
              "\n",
              "[10000 rows x 3 columns]"
            ],
            "text/html": [
              "\n",
              "  <div id=\"df-ece1d19d-ceb6-441c-a6dd-7cfea5f2f773\">\n",
              "    <div class=\"colab-df-container\">\n",
              "      <div>\n",
              "<style scoped>\n",
              "    .dataframe tbody tr th:only-of-type {\n",
              "        vertical-align: middle;\n",
              "    }\n",
              "\n",
              "    .dataframe tbody tr th {\n",
              "        vertical-align: top;\n",
              "    }\n",
              "\n",
              "    .dataframe thead th {\n",
              "        text-align: right;\n",
              "    }\n",
              "</style>\n",
              "<table border=\"1\" class=\"dataframe\">\n",
              "  <thead>\n",
              "    <tr style=\"text-align: right;\">\n",
              "      <th></th>\n",
              "      <th>1</th>\n",
              "      <th>2</th>\n",
              "      <th>3</th>\n",
              "    </tr>\n",
              "  </thead>\n",
              "  <tbody>\n",
              "    <tr>\n",
              "      <th>0</th>\n",
              "      <td>0.97</td>\n",
              "      <td>0.92</td>\n",
              "      <td>0.96</td>\n",
              "    </tr>\n",
              "    <tr>\n",
              "      <th>1</th>\n",
              "      <td>0.80</td>\n",
              "      <td>0.71</td>\n",
              "      <td>0.80</td>\n",
              "    </tr>\n",
              "    <tr>\n",
              "      <th>2</th>\n",
              "      <td>1.00</td>\n",
              "      <td>1.00</td>\n",
              "      <td>0.99</td>\n",
              "    </tr>\n",
              "    <tr>\n",
              "      <th>3</th>\n",
              "      <td>1.00</td>\n",
              "      <td>1.00</td>\n",
              "      <td>0.99</td>\n",
              "    </tr>\n",
              "    <tr>\n",
              "      <th>4</th>\n",
              "      <td>0.72</td>\n",
              "      <td>0.56</td>\n",
              "      <td>0.66</td>\n",
              "    </tr>\n",
              "    <tr>\n",
              "      <th>...</th>\n",
              "      <td>...</td>\n",
              "      <td>...</td>\n",
              "      <td>...</td>\n",
              "    </tr>\n",
              "    <tr>\n",
              "      <th>9995</th>\n",
              "      <td>0.97</td>\n",
              "      <td>0.92</td>\n",
              "      <td>0.96</td>\n",
              "    </tr>\n",
              "    <tr>\n",
              "      <th>9996</th>\n",
              "      <td>1.00</td>\n",
              "      <td>1.00</td>\n",
              "      <td>0.99</td>\n",
              "    </tr>\n",
              "    <tr>\n",
              "      <th>9997</th>\n",
              "      <td>0.98</td>\n",
              "      <td>0.56</td>\n",
              "      <td>0.97</td>\n",
              "    </tr>\n",
              "    <tr>\n",
              "      <th>9998</th>\n",
              "      <td>1.00</td>\n",
              "      <td>1.00</td>\n",
              "      <td>0.99</td>\n",
              "    </tr>\n",
              "    <tr>\n",
              "      <th>9999</th>\n",
              "      <td>0.99</td>\n",
              "      <td>0.89</td>\n",
              "      <td>0.84</td>\n",
              "    </tr>\n",
              "  </tbody>\n",
              "</table>\n",
              "<p>10000 rows × 3 columns</p>\n",
              "</div>\n",
              "      <button class=\"colab-df-convert\" onclick=\"convertToInteractive('df-ece1d19d-ceb6-441c-a6dd-7cfea5f2f773')\"\n",
              "              title=\"Convert this dataframe to an interactive table.\"\n",
              "              style=\"display:none;\">\n",
              "        \n",
              "  <svg xmlns=\"http://www.w3.org/2000/svg\" height=\"24px\"viewBox=\"0 0 24 24\"\n",
              "       width=\"24px\">\n",
              "    <path d=\"M0 0h24v24H0V0z\" fill=\"none\"/>\n",
              "    <path d=\"M18.56 5.44l.94 2.06.94-2.06 2.06-.94-2.06-.94-.94-2.06-.94 2.06-2.06.94zm-11 1L8.5 8.5l.94-2.06 2.06-.94-2.06-.94L8.5 2.5l-.94 2.06-2.06.94zm10 10l.94 2.06.94-2.06 2.06-.94-2.06-.94-.94-2.06-.94 2.06-2.06.94z\"/><path d=\"M17.41 7.96l-1.37-1.37c-.4-.4-.92-.59-1.43-.59-.52 0-1.04.2-1.43.59L10.3 9.45l-7.72 7.72c-.78.78-.78 2.05 0 2.83L4 21.41c.39.39.9.59 1.41.59.51 0 1.02-.2 1.41-.59l7.78-7.78 2.81-2.81c.8-.78.8-2.07 0-2.86zM5.41 20L4 18.59l7.72-7.72 1.47 1.35L5.41 20z\"/>\n",
              "  </svg>\n",
              "      </button>\n",
              "      \n",
              "  <style>\n",
              "    .colab-df-container {\n",
              "      display:flex;\n",
              "      flex-wrap:wrap;\n",
              "      gap: 12px;\n",
              "    }\n",
              "\n",
              "    .colab-df-convert {\n",
              "      background-color: #E8F0FE;\n",
              "      border: none;\n",
              "      border-radius: 50%;\n",
              "      cursor: pointer;\n",
              "      display: none;\n",
              "      fill: #1967D2;\n",
              "      height: 32px;\n",
              "      padding: 0 0 0 0;\n",
              "      width: 32px;\n",
              "    }\n",
              "\n",
              "    .colab-df-convert:hover {\n",
              "      background-color: #E2EBFA;\n",
              "      box-shadow: 0px 1px 2px rgba(60, 64, 67, 0.3), 0px 1px 3px 1px rgba(60, 64, 67, 0.15);\n",
              "      fill: #174EA6;\n",
              "    }\n",
              "\n",
              "    [theme=dark] .colab-df-convert {\n",
              "      background-color: #3B4455;\n",
              "      fill: #D2E3FC;\n",
              "    }\n",
              "\n",
              "    [theme=dark] .colab-df-convert:hover {\n",
              "      background-color: #434B5C;\n",
              "      box-shadow: 0px 1px 3px 1px rgba(0, 0, 0, 0.15);\n",
              "      filter: drop-shadow(0px 1px 2px rgba(0, 0, 0, 0.3));\n",
              "      fill: #FFFFFF;\n",
              "    }\n",
              "  </style>\n",
              "\n",
              "      <script>\n",
              "        const buttonEl =\n",
              "          document.querySelector('#df-ece1d19d-ceb6-441c-a6dd-7cfea5f2f773 button.colab-df-convert');\n",
              "        buttonEl.style.display =\n",
              "          google.colab.kernel.accessAllowed ? 'block' : 'none';\n",
              "\n",
              "        async function convertToInteractive(key) {\n",
              "          const element = document.querySelector('#df-ece1d19d-ceb6-441c-a6dd-7cfea5f2f773');\n",
              "          const dataTable =\n",
              "            await google.colab.kernel.invokeFunction('convertToInteractive',\n",
              "                                                     [key], {});\n",
              "          if (!dataTable) return;\n",
              "\n",
              "          const docLinkHtml = 'Like what you see? Visit the ' +\n",
              "            '<a target=\"_blank\" href=https://colab.research.google.com/notebooks/data_table.ipynb>data table notebook</a>'\n",
              "            + ' to learn more about interactive tables.';\n",
              "          element.innerHTML = '';\n",
              "          dataTable['output_type'] = 'display_data';\n",
              "          await google.colab.output.renderOutput(dataTable, element);\n",
              "          const docLink = document.createElement('div');\n",
              "          docLink.innerHTML = docLinkHtml;\n",
              "          element.appendChild(docLink);\n",
              "        }\n",
              "      </script>\n",
              "    </div>\n",
              "  </div>\n",
              "  "
            ]
          },
          "metadata": {},
          "execution_count": 25
        }
      ]
    },
    {
      "cell_type": "code",
      "source": [
        "# For each sample, take the result from model with highest precision \n",
        "n=ypred.idxmax(axis='columns')\n",
        "result=[]\n",
        "for j in range(len(n)):\n",
        "    m=n[j]-1\n",
        "    result.append(ypred_org.iloc[j,m])"
      ],
      "metadata": {
        "id": "O5DYwSnMy7cb"
      },
      "id": "O5DYwSnMy7cb",
      "execution_count": 26,
      "outputs": []
    },
    {
      "cell_type": "code",
      "source": [
        "# Calculate the precision for udf model\n",
        "udf_report=metrics.classification_report(test_labels, result, output_dict=True)\n",
        "pd.DataFrame(udf_report).transpose()"
      ],
      "metadata": {
        "colab": {
          "base_uri": "https://localhost:8080/",
          "height": 457
        },
        "id": "NF2PaJp0zSsZ",
        "outputId": "d4afd8f4-b28b-41bb-9ef2-f3c02eac653f"
      },
      "id": "NF2PaJp0zSsZ",
      "execution_count": 27,
      "outputs": [
        {
          "output_type": "execute_result",
          "data": {
            "text/plain": [
              "              precision  recall  f1-score    support\n",
              "0              0.793750   0.889  0.838679   1000.000\n",
              "1              0.989837   0.974  0.981855   1000.000\n",
              "2              0.804260   0.793  0.798590   1000.000\n",
              "3              0.846435   0.926  0.884432   1000.000\n",
              "4              0.786580   0.844  0.814279   1000.000\n",
              "5              0.951866   0.969  0.960357   1000.000\n",
              "6              0.824615   0.536  0.649697   1000.000\n",
              "7              0.949704   0.963  0.956306   1000.000\n",
              "8              0.930806   0.982  0.955718   1000.000\n",
              "9              0.958250   0.964  0.961117   1000.000\n",
              "accuracy       0.884000   0.884  0.884000      0.884\n",
              "macro avg      0.883610   0.884  0.880103  10000.000\n",
              "weighted avg   0.883610   0.884  0.880103  10000.000"
            ],
            "text/html": [
              "\n",
              "  <div id=\"df-cd707a86-327e-486e-80d7-ab31841edea0\">\n",
              "    <div class=\"colab-df-container\">\n",
              "      <div>\n",
              "<style scoped>\n",
              "    .dataframe tbody tr th:only-of-type {\n",
              "        vertical-align: middle;\n",
              "    }\n",
              "\n",
              "    .dataframe tbody tr th {\n",
              "        vertical-align: top;\n",
              "    }\n",
              "\n",
              "    .dataframe thead th {\n",
              "        text-align: right;\n",
              "    }\n",
              "</style>\n",
              "<table border=\"1\" class=\"dataframe\">\n",
              "  <thead>\n",
              "    <tr style=\"text-align: right;\">\n",
              "      <th></th>\n",
              "      <th>precision</th>\n",
              "      <th>recall</th>\n",
              "      <th>f1-score</th>\n",
              "      <th>support</th>\n",
              "    </tr>\n",
              "  </thead>\n",
              "  <tbody>\n",
              "    <tr>\n",
              "      <th>0</th>\n",
              "      <td>0.793750</td>\n",
              "      <td>0.889</td>\n",
              "      <td>0.838679</td>\n",
              "      <td>1000.000</td>\n",
              "    </tr>\n",
              "    <tr>\n",
              "      <th>1</th>\n",
              "      <td>0.989837</td>\n",
              "      <td>0.974</td>\n",
              "      <td>0.981855</td>\n",
              "      <td>1000.000</td>\n",
              "    </tr>\n",
              "    <tr>\n",
              "      <th>2</th>\n",
              "      <td>0.804260</td>\n",
              "      <td>0.793</td>\n",
              "      <td>0.798590</td>\n",
              "      <td>1000.000</td>\n",
              "    </tr>\n",
              "    <tr>\n",
              "      <th>3</th>\n",
              "      <td>0.846435</td>\n",
              "      <td>0.926</td>\n",
              "      <td>0.884432</td>\n",
              "      <td>1000.000</td>\n",
              "    </tr>\n",
              "    <tr>\n",
              "      <th>4</th>\n",
              "      <td>0.786580</td>\n",
              "      <td>0.844</td>\n",
              "      <td>0.814279</td>\n",
              "      <td>1000.000</td>\n",
              "    </tr>\n",
              "    <tr>\n",
              "      <th>5</th>\n",
              "      <td>0.951866</td>\n",
              "      <td>0.969</td>\n",
              "      <td>0.960357</td>\n",
              "      <td>1000.000</td>\n",
              "    </tr>\n",
              "    <tr>\n",
              "      <th>6</th>\n",
              "      <td>0.824615</td>\n",
              "      <td>0.536</td>\n",
              "      <td>0.649697</td>\n",
              "      <td>1000.000</td>\n",
              "    </tr>\n",
              "    <tr>\n",
              "      <th>7</th>\n",
              "      <td>0.949704</td>\n",
              "      <td>0.963</td>\n",
              "      <td>0.956306</td>\n",
              "      <td>1000.000</td>\n",
              "    </tr>\n",
              "    <tr>\n",
              "      <th>8</th>\n",
              "      <td>0.930806</td>\n",
              "      <td>0.982</td>\n",
              "      <td>0.955718</td>\n",
              "      <td>1000.000</td>\n",
              "    </tr>\n",
              "    <tr>\n",
              "      <th>9</th>\n",
              "      <td>0.958250</td>\n",
              "      <td>0.964</td>\n",
              "      <td>0.961117</td>\n",
              "      <td>1000.000</td>\n",
              "    </tr>\n",
              "    <tr>\n",
              "      <th>accuracy</th>\n",
              "      <td>0.884000</td>\n",
              "      <td>0.884</td>\n",
              "      <td>0.884000</td>\n",
              "      <td>0.884</td>\n",
              "    </tr>\n",
              "    <tr>\n",
              "      <th>macro avg</th>\n",
              "      <td>0.883610</td>\n",
              "      <td>0.884</td>\n",
              "      <td>0.880103</td>\n",
              "      <td>10000.000</td>\n",
              "    </tr>\n",
              "    <tr>\n",
              "      <th>weighted avg</th>\n",
              "      <td>0.883610</td>\n",
              "      <td>0.884</td>\n",
              "      <td>0.880103</td>\n",
              "      <td>10000.000</td>\n",
              "    </tr>\n",
              "  </tbody>\n",
              "</table>\n",
              "</div>\n",
              "      <button class=\"colab-df-convert\" onclick=\"convertToInteractive('df-cd707a86-327e-486e-80d7-ab31841edea0')\"\n",
              "              title=\"Convert this dataframe to an interactive table.\"\n",
              "              style=\"display:none;\">\n",
              "        \n",
              "  <svg xmlns=\"http://www.w3.org/2000/svg\" height=\"24px\"viewBox=\"0 0 24 24\"\n",
              "       width=\"24px\">\n",
              "    <path d=\"M0 0h24v24H0V0z\" fill=\"none\"/>\n",
              "    <path d=\"M18.56 5.44l.94 2.06.94-2.06 2.06-.94-2.06-.94-.94-2.06-.94 2.06-2.06.94zm-11 1L8.5 8.5l.94-2.06 2.06-.94-2.06-.94L8.5 2.5l-.94 2.06-2.06.94zm10 10l.94 2.06.94-2.06 2.06-.94-2.06-.94-.94-2.06-.94 2.06-2.06.94z\"/><path d=\"M17.41 7.96l-1.37-1.37c-.4-.4-.92-.59-1.43-.59-.52 0-1.04.2-1.43.59L10.3 9.45l-7.72 7.72c-.78.78-.78 2.05 0 2.83L4 21.41c.39.39.9.59 1.41.59.51 0 1.02-.2 1.41-.59l7.78-7.78 2.81-2.81c.8-.78.8-2.07 0-2.86zM5.41 20L4 18.59l7.72-7.72 1.47 1.35L5.41 20z\"/>\n",
              "  </svg>\n",
              "      </button>\n",
              "      \n",
              "  <style>\n",
              "    .colab-df-container {\n",
              "      display:flex;\n",
              "      flex-wrap:wrap;\n",
              "      gap: 12px;\n",
              "    }\n",
              "\n",
              "    .colab-df-convert {\n",
              "      background-color: #E8F0FE;\n",
              "      border: none;\n",
              "      border-radius: 50%;\n",
              "      cursor: pointer;\n",
              "      display: none;\n",
              "      fill: #1967D2;\n",
              "      height: 32px;\n",
              "      padding: 0 0 0 0;\n",
              "      width: 32px;\n",
              "    }\n",
              "\n",
              "    .colab-df-convert:hover {\n",
              "      background-color: #E2EBFA;\n",
              "      box-shadow: 0px 1px 2px rgba(60, 64, 67, 0.3), 0px 1px 3px 1px rgba(60, 64, 67, 0.15);\n",
              "      fill: #174EA6;\n",
              "    }\n",
              "\n",
              "    [theme=dark] .colab-df-convert {\n",
              "      background-color: #3B4455;\n",
              "      fill: #D2E3FC;\n",
              "    }\n",
              "\n",
              "    [theme=dark] .colab-df-convert:hover {\n",
              "      background-color: #434B5C;\n",
              "      box-shadow: 0px 1px 3px 1px rgba(0, 0, 0, 0.15);\n",
              "      filter: drop-shadow(0px 1px 2px rgba(0, 0, 0, 0.3));\n",
              "      fill: #FFFFFF;\n",
              "    }\n",
              "  </style>\n",
              "\n",
              "      <script>\n",
              "        const buttonEl =\n",
              "          document.querySelector('#df-cd707a86-327e-486e-80d7-ab31841edea0 button.colab-df-convert');\n",
              "        buttonEl.style.display =\n",
              "          google.colab.kernel.accessAllowed ? 'block' : 'none';\n",
              "\n",
              "        async function convertToInteractive(key) {\n",
              "          const element = document.querySelector('#df-cd707a86-327e-486e-80d7-ab31841edea0');\n",
              "          const dataTable =\n",
              "            await google.colab.kernel.invokeFunction('convertToInteractive',\n",
              "                                                     [key], {});\n",
              "          if (!dataTable) return;\n",
              "\n",
              "          const docLinkHtml = 'Like what you see? Visit the ' +\n",
              "            '<a target=\"_blank\" href=https://colab.research.google.com/notebooks/data_table.ipynb>data table notebook</a>'\n",
              "            + ' to learn more about interactive tables.';\n",
              "          element.innerHTML = '';\n",
              "          dataTable['output_type'] = 'display_data';\n",
              "          await google.colab.output.renderOutput(dataTable, element);\n",
              "          const docLink = document.createElement('div');\n",
              "          docLink.innerHTML = docLinkHtml;\n",
              "          element.appendChild(docLink);\n",
              "        }\n",
              "      </script>\n",
              "    </div>\n",
              "  </div>\n",
              "  "
            ]
          },
          "metadata": {},
          "execution_count": 27
        }
      ]
    },
    {
      "cell_type": "markdown",
      "source": [
        "# Ensemble the models"
      ],
      "metadata": {
        "id": "Zc-IFanG3Tqi"
      },
      "id": "Zc-IFanG3Tqi"
    },
    {
      "cell_type": "code",
      "source": [
        "import lightgbm as ltg\n",
        "from sklearn.linear_model import LogisticRegression\n",
        "from sklearn.discriminant_analysis import LinearDiscriminantAnalysis as LDA\n",
        "from sklearn import svm\n",
        "from sklearn.ensemble import VotingClassifier\n",
        "from sklearn.metrics import accuracy_score\n",
        "from sklearn.ensemble import StackingClassifier"
      ],
      "metadata": {
        "id": "mCyR2hsW3We5"
      },
      "id": "mCyR2hsW3We5",
      "execution_count": 28,
      "outputs": []
    },
    {
      "cell_type": "code",
      "source": [
        "estimator = []\n",
        "estimator.append(('LDA', LDA(n_components=9)))\n",
        "estimator.append(('SVC', svm.SVC(kernel='poly', degree=3, C=1)))\n",
        "estimator.append(('LGBM', ltg.LGBMClassifier(objective='multiclass',path_smooth = 0.2)))"
      ],
      "metadata": {
        "id": "S7S43Wkw3Xvf"
      },
      "id": "S7S43Wkw3Xvf",
      "execution_count": 34,
      "outputs": []
    },
    {
      "cell_type": "markdown",
      "source": [
        "## Voting"
      ],
      "metadata": {
        "id": "f0xj_0ul05IU"
      },
      "id": "f0xj_0ul05IU"
    },
    {
      "cell_type": "code",
      "source": [
        "vot_hard=VotingClassifier(estimators = estimator, voting ='hard')\n",
        "vot_hard.fit(train_x, train_labels)"
      ],
      "metadata": {
        "id": "WhhNa5dS04YO",
        "outputId": "9ea3efb2-927c-4deb-85eb-80b600d69fcd",
        "colab": {
          "base_uri": "https://localhost:8080/"
        }
      },
      "id": "WhhNa5dS04YO",
      "execution_count": 35,
      "outputs": [
        {
          "output_type": "execute_result",
          "data": {
            "text/plain": [
              "VotingClassifier(estimators=[('LDA',\n",
              "                              LinearDiscriminantAnalysis(n_components=9)),\n",
              "                             ('SVC', SVC(C=1, kernel='poly')),\n",
              "                             ('LGBM',\n",
              "                              LGBMClassifier(objective='multiclass',\n",
              "                                             path_smooth=0.2))])"
            ]
          },
          "metadata": {},
          "execution_count": 35
        }
      ]
    },
    {
      "cell_type": "code",
      "source": [
        "# predict with voting-ensembled model and check accuracy on testing set\n",
        "ypred=vot_hard.predict(test_x)\n",
        "accuracy_score(test_labels, ypred)"
      ],
      "metadata": {
        "id": "O-ZEHQVV3Qgf",
        "outputId": "c4649c9d-93a9-47b9-989e-5f673330a828",
        "colab": {
          "base_uri": "https://localhost:8080/"
        }
      },
      "id": "O-ZEHQVV3Qgf",
      "execution_count": 36,
      "outputs": [
        {
          "output_type": "execute_result",
          "data": {
            "text/plain": [
              "0.8723"
            ]
          },
          "metadata": {},
          "execution_count": 36
        }
      ]
    },
    {
      "cell_type": "markdown",
      "source": [
        "# Stacking"
      ],
      "metadata": {
        "id": "Ickc6DDp4tU3"
      },
      "id": "Ickc6DDp4tU3"
    },
    {
      "cell_type": "code",
      "source": [
        "clf = StackingClassifier(estimators=estimator, final_estimator=LogisticRegression(max_iter=200, solver='liblinear'))"
      ],
      "metadata": {
        "id": "ofDcoUJl4uyx"
      },
      "id": "ofDcoUJl4uyx",
      "execution_count": null,
      "outputs": []
    },
    {
      "cell_type": "code",
      "source": [
        "clf.fit(train_x, train_labels).score(test_x, test_labels)"
      ],
      "metadata": {
        "id": "ZxVZPhGg4w5Y"
      },
      "id": "ZxVZPhGg4w5Y",
      "execution_count": null,
      "outputs": []
    }
  ],
  "metadata": {
    "kernelspec": {
      "display_name": "Python 3 (ipykernel)",
      "language": "python",
      "name": "python3"
    },
    "language_info": {
      "codemirror_mode": {
        "name": "ipython",
        "version": 3
      },
      "file_extension": ".py",
      "mimetype": "text/x-python",
      "name": "python",
      "nbconvert_exporter": "python",
      "pygments_lexer": "ipython3",
      "version": "3.8.12"
    },
    "colab": {
      "name": "stat542_proj_no_preprocess.ipynb",
      "provenance": []
    }
  },
  "nbformat": 4,
  "nbformat_minor": 5
}