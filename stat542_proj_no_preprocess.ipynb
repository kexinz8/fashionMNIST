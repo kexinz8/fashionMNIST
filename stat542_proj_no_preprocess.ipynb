{
  "cells": [
    {
      "cell_type": "code",
      "execution_count": null,
      "id": "5a1d974f",
      "metadata": {
        "id": "5a1d974f"
      },
      "outputs": [],
      "source": [
        "import pandas as pd\n",
        "import numpy as np\n",
        "\n",
        "from sklearn.datasets import make_classification\n",
        "from sklearn.model_selection import cross_val_score\n",
        "\n",
        "from sklearn import metrics"
      ]
    },
    {
      "cell_type": "code",
      "execution_count": null,
      "id": "fcd100f6",
      "metadata": {
        "id": "fcd100f6"
      },
      "outputs": [],
      "source": [
        "# import data\n",
        "import tensorflow as tf\n",
        "from tensorflow.keras.datasets import fashion_mnist\n",
        "(train_data, train_labels), (test_data, test_labels) = fashion_mnist.load_data()"
      ]
    },
    {
      "cell_type": "code",
      "source": [
        "train_x = train_data.reshape(train_data.shape[0], -1).astype('float32')\n",
        "test_x = test_data.reshape(test_data.shape[0], -1).astype('float32')"
      ],
      "metadata": {
        "id": "TOvvHQFVuVKU"
      },
      "id": "TOvvHQFVuVKU",
      "execution_count": null,
      "outputs": []
    },
    {
      "cell_type": "markdown",
      "id": "b89cfd2d",
      "metadata": {
        "id": "b89cfd2d"
      },
      "source": [
        "# LightGBM"
      ]
    },
    {
      "cell_type": "code",
      "execution_count": null,
      "id": "38a2fbf7",
      "metadata": {
        "id": "38a2fbf7"
      },
      "outputs": [],
      "source": [
        "from lightgbm import LGBMClassifier"
      ]
    },
    {
      "cell_type": "code",
      "execution_count": null,
      "id": "542b30b3",
      "metadata": {
        "id": "542b30b3"
      },
      "outputs": [],
      "source": [
        "lgb_model = LGBMClassifier(objective='multiclass',path_smooth = 0.2)"
      ]
    },
    {
      "cell_type": "code",
      "execution_count": null,
      "id": "b4059e5e",
      "metadata": {
        "id": "b4059e5e",
        "outputId": "96bcd8de-1b6b-41fa-f71b-3f3b431365c9"
      },
      "outputs": [
        {
          "name": "stderr",
          "output_type": "stream",
          "text": [
            "C:\\Users\\asus\\anaconda3\\lib\\site-packages\\lightgbm\\basic.py:2065: UserWarning: Using categorical_feature in Dataset.\n",
            "  _log_warning('Using categorical_feature in Dataset.')\n"
          ]
        },
        {
          "data": {
            "text/plain": [
              "LGBMClassifier(objective='multiclass', path_smooth=0.2)"
            ]
          },
          "execution_count": 47,
          "metadata": {},
          "output_type": "execute_result"
        }
      ],
      "source": [
        "lgb_model.fit(train_x,train_labels,categorical_feature=[0,3])"
      ]
    },
    {
      "cell_type": "code",
      "execution_count": null,
      "id": "256ee1d6",
      "metadata": {
        "id": "256ee1d6",
        "outputId": "afef0e26-fe74-4481-8dba-05cad51782ca"
      },
      "outputs": [
        {
          "name": "stdout",
          "output_type": "stream",
          "text": [
            "              precision    recall  f1-score   support\n",
            "\n",
            "           0       0.84      0.86      0.85      1000\n",
            "           1       1.00      0.97      0.98      1000\n",
            "           2       0.80      0.83      0.81      1000\n",
            "           3       0.89      0.90      0.90      1000\n",
            "           4       0.80      0.83      0.82      1000\n",
            "           5       0.99      0.97      0.98      1000\n",
            "           6       0.72      0.66      0.69      1000\n",
            "           7       0.95      0.97      0.96      1000\n",
            "           8       0.98      0.97      0.98      1000\n",
            "           9       0.97      0.96      0.96      1000\n",
            "\n",
            "    accuracy                           0.89     10000\n",
            "   macro avg       0.89      0.89      0.89     10000\n",
            "weighted avg       0.89      0.89      0.89     10000\n",
            "\n"
          ]
        }
      ],
      "source": [
        "expected_y  = test_labels\n",
        "predicted_y = lgb_model.predict(test_x)\n",
        "lightGBM_pred_y = predicted_y\n",
        "print(metrics.classification_report(expected_y, predicted_y))"
      ]
    },
    {
      "cell_type": "code",
      "execution_count": null,
      "id": "21fb155a",
      "metadata": {
        "id": "21fb155a"
      },
      "outputs": [],
      "source": [
        "# dont run this part, i'm still tuning\n",
        "err_list = []\n",
        "for i in np.arange(0.0, 1.0, 0.1):\n",
        "    model = LGBMClassifier(objective='multiclass',path_smooth = i)\n",
        "    model.fit(X_train,y_train,categorical_feature=[0,3])\n",
        "    predictions = model.predict(X_test)\n",
        "    error = sum(predictions!=y_test)/len(y_test)\n",
        "    err_list.append(error)\n",
        "err_list"
      ]
    },
    {
      "cell_type": "code",
      "execution_count": null,
      "id": "98c79bed",
      "metadata": {
        "id": "98c79bed"
      },
      "outputs": [],
      "source": [
        "# dont run this part, i'm still tuning\n",
        "err_list = []\n",
        "for i in np.arange(0.0, 1.0, 0.1):\n",
        "    model = LGBMClassifier(objective='multiclass',path_smooth = i)\n",
        "    model.fit(X_train,y_train,categorical_feature=[0,3])\n",
        "    predictions = model.predict(X_test)\n",
        "    error = sum(predictions!=y_test)/len(y_test)\n",
        "    err_list.append(error)\n",
        "err_list"
      ]
    },
    {
      "cell_type": "markdown",
      "id": "23429c60",
      "metadata": {
        "id": "23429c60"
      },
      "source": [
        "# LDA"
      ]
    },
    {
      "cell_type": "code",
      "execution_count": null,
      "id": "abfbf016",
      "metadata": {
        "id": "abfbf016"
      },
      "outputs": [],
      "source": [
        "from sklearn.discriminant_analysis import LinearDiscriminantAnalysis as LDA"
      ]
    },
    {
      "cell_type": "code",
      "execution_count": null,
      "id": "8a6b7f7a",
      "metadata": {
        "id": "8a6b7f7a"
      },
      "outputs": [],
      "source": [
        "lda = LDA(n_components=9)"
      ]
    },
    {
      "cell_type": "code",
      "execution_count": null,
      "id": "f4823097",
      "metadata": {
        "id": "f4823097",
        "outputId": "b6762dbf-56fa-4da7-d629-c1a92db3dd72"
      },
      "outputs": [
        {
          "name": "stdout",
          "output_type": "stream",
          "text": [
            "              precision    recall  f1-score   support\n",
            "\n",
            "           0       0.82      0.78      0.80      1000\n",
            "           1       1.00      0.93      0.96      1000\n",
            "           2       0.71      0.70      0.71      1000\n",
            "           3       0.81      0.86      0.83      1000\n",
            "           4       0.71      0.74      0.73      1000\n",
            "           5       0.89      0.90      0.89      1000\n",
            "           6       0.56      0.57      0.57      1000\n",
            "           7       0.88      0.89      0.89      1000\n",
            "           8       0.94      0.93      0.93      1000\n",
            "           9       0.92      0.91      0.91      1000\n",
            "\n",
            "    accuracy                           0.82     10000\n",
            "   macro avg       0.82      0.82      0.82     10000\n",
            "weighted avg       0.82      0.82      0.82     10000\n",
            "\n"
          ]
        },
        {
          "name": "stderr",
          "output_type": "stream",
          "text": [
            "C:\\Users\\asus\\anaconda3\\lib\\site-packages\\sklearn\\base.py:445: UserWarning: X does not have valid feature names, but LinearDiscriminantAnalysis was fitted with feature names\n",
            "  warnings.warn(\n"
          ]
        }
      ],
      "source": [
        "expected_y  = test_labels\n",
        "predicted_y = lda_model.predict(test_x)\n",
        "lda_pred_y = predicted_y\n",
        "print(metrics.classification_report(expected_y, predicted_y))"
      ]
    },
    {
      "cell_type": "code",
      "execution_count": null,
      "id": "435896e9",
      "metadata": {
        "id": "435896e9",
        "outputId": "c20ab0a7-951d-431a-a487-9cfcb320e86f"
      },
      "outputs": [
        {
          "data": {
            "text/html": [
              "<div>\n",
              "<style scoped>\n",
              "    .dataframe tbody tr th:only-of-type {\n",
              "        vertical-align: middle;\n",
              "    }\n",
              "\n",
              "    .dataframe tbody tr th {\n",
              "        vertical-align: top;\n",
              "    }\n",
              "\n",
              "    .dataframe thead th {\n",
              "        text-align: right;\n",
              "    }\n",
              "</style>\n",
              "<table border=\"1\" class=\"dataframe\">\n",
              "  <thead>\n",
              "    <tr style=\"text-align: right;\">\n",
              "      <th></th>\n",
              "      <th>precision</th>\n",
              "      <th>recall</th>\n",
              "      <th>f1-score</th>\n",
              "      <th>support</th>\n",
              "    </tr>\n",
              "  </thead>\n",
              "  <tbody>\n",
              "    <tr>\n",
              "      <th>0</th>\n",
              "      <td>0.817801</td>\n",
              "      <td>0.7810</td>\n",
              "      <td>0.798977</td>\n",
              "      <td>1000.0000</td>\n",
              "    </tr>\n",
              "    <tr>\n",
              "      <th>1</th>\n",
              "      <td>0.998929</td>\n",
              "      <td>0.9330</td>\n",
              "      <td>0.964840</td>\n",
              "      <td>1000.0000</td>\n",
              "    </tr>\n",
              "    <tr>\n",
              "      <th>2</th>\n",
              "      <td>0.713415</td>\n",
              "      <td>0.7020</td>\n",
              "      <td>0.707661</td>\n",
              "      <td>1000.0000</td>\n",
              "    </tr>\n",
              "    <tr>\n",
              "      <th>3</th>\n",
              "      <td>0.807547</td>\n",
              "      <td>0.8560</td>\n",
              "      <td>0.831068</td>\n",
              "      <td>1000.0000</td>\n",
              "    </tr>\n",
              "    <tr>\n",
              "      <th>4</th>\n",
              "      <td>0.710878</td>\n",
              "      <td>0.7450</td>\n",
              "      <td>0.727539</td>\n",
              "      <td>1000.0000</td>\n",
              "    </tr>\n",
              "    <tr>\n",
              "      <th>5</th>\n",
              "      <td>0.890765</td>\n",
              "      <td>0.8970</td>\n",
              "      <td>0.893871</td>\n",
              "      <td>1000.0000</td>\n",
              "    </tr>\n",
              "    <tr>\n",
              "      <th>6</th>\n",
              "      <td>0.561765</td>\n",
              "      <td>0.5730</td>\n",
              "      <td>0.567327</td>\n",
              "      <td>1000.0000</td>\n",
              "    </tr>\n",
              "    <tr>\n",
              "      <th>7</th>\n",
              "      <td>0.884273</td>\n",
              "      <td>0.8940</td>\n",
              "      <td>0.889110</td>\n",
              "      <td>1000.0000</td>\n",
              "    </tr>\n",
              "    <tr>\n",
              "      <th>8</th>\n",
              "      <td>0.936299</td>\n",
              "      <td>0.9260</td>\n",
              "      <td>0.931121</td>\n",
              "      <td>1000.0000</td>\n",
              "    </tr>\n",
              "    <tr>\n",
              "      <th>9</th>\n",
              "      <td>0.916331</td>\n",
              "      <td>0.9090</td>\n",
              "      <td>0.912651</td>\n",
              "      <td>1000.0000</td>\n",
              "    </tr>\n",
              "    <tr>\n",
              "      <th>accuracy</th>\n",
              "      <td>0.821600</td>\n",
              "      <td>0.8216</td>\n",
              "      <td>0.821600</td>\n",
              "      <td>0.8216</td>\n",
              "    </tr>\n",
              "    <tr>\n",
              "      <th>macro avg</th>\n",
              "      <td>0.823800</td>\n",
              "      <td>0.8216</td>\n",
              "      <td>0.822416</td>\n",
              "      <td>10000.0000</td>\n",
              "    </tr>\n",
              "    <tr>\n",
              "      <th>weighted avg</th>\n",
              "      <td>0.823800</td>\n",
              "      <td>0.8216</td>\n",
              "      <td>0.822416</td>\n",
              "      <td>10000.0000</td>\n",
              "    </tr>\n",
              "  </tbody>\n",
              "</table>\n",
              "</div>"
            ],
            "text/plain": [
              "              precision  recall  f1-score     support\n",
              "0              0.817801  0.7810  0.798977   1000.0000\n",
              "1              0.998929  0.9330  0.964840   1000.0000\n",
              "2              0.713415  0.7020  0.707661   1000.0000\n",
              "3              0.807547  0.8560  0.831068   1000.0000\n",
              "4              0.710878  0.7450  0.727539   1000.0000\n",
              "5              0.890765  0.8970  0.893871   1000.0000\n",
              "6              0.561765  0.5730  0.567327   1000.0000\n",
              "7              0.884273  0.8940  0.889110   1000.0000\n",
              "8              0.936299  0.9260  0.931121   1000.0000\n",
              "9              0.916331  0.9090  0.912651   1000.0000\n",
              "accuracy       0.821600  0.8216  0.821600      0.8216\n",
              "macro avg      0.823800  0.8216  0.822416  10000.0000\n",
              "weighted avg   0.823800  0.8216  0.822416  10000.0000"
            ]
          },
          "execution_count": 85,
          "metadata": {},
          "output_type": "execute_result"
        }
      ],
      "source": [
        "report = metrics.classification_report(expected_y, predicted_y, output_dict=True)\n",
        "pd.DataFrame(report).transpose()"
      ]
    },
    {
      "cell_type": "markdown",
      "id": "87067edd",
      "metadata": {
        "id": "87067edd"
      },
      "source": [
        "# SVM"
      ]
    },
    {
      "cell_type": "code",
      "execution_count": null,
      "id": "416cccde",
      "metadata": {
        "id": "416cccde"
      },
      "outputs": [],
      "source": [
        "from sklearn import svm\n",
        "import sklearn.model_selection as model_selection\n",
        "from sklearn.metrics import accuracy_score\n",
        "from sklearn.metrics import f1_score"
      ]
    },
    {
      "cell_type": "code",
      "execution_count": null,
      "id": "184de6fd",
      "metadata": {
        "id": "184de6fd"
      },
      "outputs": [],
      "source": [
        "# Use Ploynomial kernel \n",
        "svmpoly = svm.SVC(kernel='poly', degree=3, C=1).fit(train_x, train_labels)"
      ]
    },
    {
      "cell_type": "code",
      "execution_count": null,
      "id": "9e038eed",
      "metadata": {
        "id": "9e038eed",
        "outputId": "e34eee97-8c5d-4704-e6f7-45486396538a"
      },
      "outputs": [
        {
          "name": "stdout",
          "output_type": "stream",
          "text": [
            "              precision    recall  f1-score   support\n",
            "\n",
            "           0       0.79      0.84      0.81      1000\n",
            "           1       0.99      0.95      0.97      1000\n",
            "           2       0.80      0.78      0.79      1000\n",
            "           3       0.88      0.86      0.87      1000\n",
            "           4       0.83      0.76      0.79      1000\n",
            "           5       0.84      0.96      0.89      1000\n",
            "           6       0.66      0.69      0.68      1000\n",
            "           7       0.94      0.91      0.92      1000\n",
            "           8       0.97      0.94      0.95      1000\n",
            "           9       0.96      0.94      0.95      1000\n",
            "\n",
            "    accuracy                           0.86     10000\n",
            "   macro avg       0.87      0.86      0.86     10000\n",
            "weighted avg       0.87      0.86      0.86     10000\n",
            "\n"
          ]
        }
      ],
      "source": [
        "expected_y  = test_labels\n",
        "predicted_y = svmpoly.predict(test_x)\n",
        "SVM_pred_y = predicted_y\n",
        "print(metrics.classification_report(expected_y, predicted_y))"
      ]
    },
    {
      "cell_type": "code",
      "execution_count": null,
      "id": "c8926f00",
      "metadata": {
        "id": "c8926f00",
        "outputId": "b848c57f-5a89-43a4-8edb-1cbc89dfcfa9"
      },
      "outputs": [
        {
          "data": {
            "text/html": [
              "<div>\n",
              "<style scoped>\n",
              "    .dataframe tbody tr th:only-of-type {\n",
              "        vertical-align: middle;\n",
              "    }\n",
              "\n",
              "    .dataframe tbody tr th {\n",
              "        vertical-align: top;\n",
              "    }\n",
              "\n",
              "    .dataframe thead th {\n",
              "        text-align: right;\n",
              "    }\n",
              "</style>\n",
              "<table border=\"1\" class=\"dataframe\">\n",
              "  <thead>\n",
              "    <tr style=\"text-align: right;\">\n",
              "      <th></th>\n",
              "      <th>precision</th>\n",
              "      <th>recall</th>\n",
              "      <th>f1-score</th>\n",
              "      <th>support</th>\n",
              "    </tr>\n",
              "  </thead>\n",
              "  <tbody>\n",
              "    <tr>\n",
              "      <th>0</th>\n",
              "      <td>0.790019</td>\n",
              "      <td>0.839</td>\n",
              "      <td>0.813773</td>\n",
              "      <td>1000.000</td>\n",
              "    </tr>\n",
              "    <tr>\n",
              "      <th>1</th>\n",
              "      <td>0.991693</td>\n",
              "      <td>0.955</td>\n",
              "      <td>0.973001</td>\n",
              "      <td>1000.000</td>\n",
              "    </tr>\n",
              "    <tr>\n",
              "      <th>2</th>\n",
              "      <td>0.804145</td>\n",
              "      <td>0.776</td>\n",
              "      <td>0.789822</td>\n",
              "      <td>1000.000</td>\n",
              "    </tr>\n",
              "    <tr>\n",
              "      <th>3</th>\n",
              "      <td>0.878695</td>\n",
              "      <td>0.862</td>\n",
              "      <td>0.870268</td>\n",
              "      <td>1000.000</td>\n",
              "    </tr>\n",
              "    <tr>\n",
              "      <th>4</th>\n",
              "      <td>0.825708</td>\n",
              "      <td>0.758</td>\n",
              "      <td>0.790407</td>\n",
              "      <td>1000.000</td>\n",
              "    </tr>\n",
              "    <tr>\n",
              "      <th>5</th>\n",
              "      <td>0.835366</td>\n",
              "      <td>0.959</td>\n",
              "      <td>0.892924</td>\n",
              "      <td>1000.000</td>\n",
              "    </tr>\n",
              "    <tr>\n",
              "      <th>6</th>\n",
              "      <td>0.662500</td>\n",
              "      <td>0.689</td>\n",
              "      <td>0.675490</td>\n",
              "      <td>1000.000</td>\n",
              "    </tr>\n",
              "    <tr>\n",
              "      <th>7</th>\n",
              "      <td>0.936410</td>\n",
              "      <td>0.913</td>\n",
              "      <td>0.924557</td>\n",
              "      <td>1000.000</td>\n",
              "    </tr>\n",
              "    <tr>\n",
              "      <th>8</th>\n",
              "      <td>0.966084</td>\n",
              "      <td>0.940</td>\n",
              "      <td>0.952864</td>\n",
              "      <td>1000.000</td>\n",
              "    </tr>\n",
              "    <tr>\n",
              "      <th>9</th>\n",
              "      <td>0.963077</td>\n",
              "      <td>0.939</td>\n",
              "      <td>0.950886</td>\n",
              "      <td>1000.000</td>\n",
              "    </tr>\n",
              "    <tr>\n",
              "      <th>accuracy</th>\n",
              "      <td>0.863000</td>\n",
              "      <td>0.863</td>\n",
              "      <td>0.863000</td>\n",
              "      <td>0.863</td>\n",
              "    </tr>\n",
              "    <tr>\n",
              "      <th>macro avg</th>\n",
              "      <td>0.865370</td>\n",
              "      <td>0.863</td>\n",
              "      <td>0.863399</td>\n",
              "      <td>10000.000</td>\n",
              "    </tr>\n",
              "    <tr>\n",
              "      <th>weighted avg</th>\n",
              "      <td>0.865370</td>\n",
              "      <td>0.863</td>\n",
              "      <td>0.863399</td>\n",
              "      <td>10000.000</td>\n",
              "    </tr>\n",
              "  </tbody>\n",
              "</table>\n",
              "</div>"
            ],
            "text/plain": [
              "              precision  recall  f1-score    support\n",
              "0              0.790019   0.839  0.813773   1000.000\n",
              "1              0.991693   0.955  0.973001   1000.000\n",
              "2              0.804145   0.776  0.789822   1000.000\n",
              "3              0.878695   0.862  0.870268   1000.000\n",
              "4              0.825708   0.758  0.790407   1000.000\n",
              "5              0.835366   0.959  0.892924   1000.000\n",
              "6              0.662500   0.689  0.675490   1000.000\n",
              "7              0.936410   0.913  0.924557   1000.000\n",
              "8              0.966084   0.940  0.952864   1000.000\n",
              "9              0.963077   0.939  0.950886   1000.000\n",
              "accuracy       0.863000   0.863  0.863000      0.863\n",
              "macro avg      0.865370   0.863  0.863399  10000.000\n",
              "weighted avg   0.865370   0.863  0.863399  10000.000"
            ]
          },
          "execution_count": 101,
          "metadata": {},
          "output_type": "execute_result"
        }
      ],
      "source": [
        "report = metrics.classification_report(expected_y, predicted_y, output_dict=True)\n",
        "pd.DataFrame(report).transpose()"
      ]
    },
    {
      "cell_type": "code",
      "execution_count": null,
      "id": "c78c0887",
      "metadata": {
        "id": "c78c0887"
      },
      "outputs": [],
      "source": [
        "# to get the precision dictionary\n",
        "out = {}\n",
        "for i in range(0,10):\n",
        "    out.update({i:round(report[str(i)]['precision'],2)})"
      ]
    },
    {
      "cell_type": "code",
      "execution_count": null,
      "id": "6413f7b5",
      "metadata": {
        "id": "6413f7b5"
      },
      "outputs": [],
      "source": [
        "# create df of y_pred of test set for each model\n",
        "y_pred_test = pd.concat([pd.DataFrame(lightGBM_pred_y, columns = ['LightGBM']),\n",
        "           pd.DataFrame(lda_pred_y, columns = ['LDA']), \n",
        "           pd.DataFrame(SVM_pred_y, columns = ['SVM'])],axis=1)"
      ]
    },
    {
      "cell_type": "code",
      "execution_count": null,
      "id": "0500a56e",
      "metadata": {
        "id": "0500a56e"
      },
      "outputs": [],
      "source": [
        "y_pred_test.to_csv('y_pred_test.csv')"
      ]
    },
    {
      "cell_type": "markdown",
      "source": [
        "### User defined function"
      ],
      "metadata": {
        "id": "rhdbl5naxr6R"
      },
      "id": "rhdbl5naxr6R"
    },
    {
      "cell_type": "code",
      "execution_count": null,
      "id": "24b4de77",
      "metadata": {
        "id": "24b4de77"
      },
      "outputs": [],
      "source": [
        "# Construct the reference table\n",
        "ref1 = {0: 0.84, 1: 1.0, 2: 0.8, 3: 0.89, 4: 0.8, 5: 0.99, 6: 0.72, 7: 0.95, 8: 0.98, 9: 0.97}\n",
        "ref2 = {0: 0.82, 1: 1.0, 2: 0.71, 3: 0.81, 4: 0.71, 5: 0.89, 6: 0.56, 7: 0.88, 8: 0.94, 9: 0.92}\n",
        "ref3 = {0: 0.79, 1: 0.99, 2: 0.8, 3: 0.88, 4: 0.83, 5: 0.84, 6: 0.66, 7: 0.94, 8: 0.97, 9: 0.96}\n",
        "ref_df = [ref1, ref2, ref3]"
      ]
    },
    {
      "cell_type": "code",
      "source": [
        "ypred_org = y_pred_test\n",
        "ypred = ypred_org.copy()"
      ],
      "metadata": {
        "id": "qcwqLL92x0NX"
      },
      "id": "qcwqLL92x0NX",
      "execution_count": null,
      "outputs": []
    },
    {
      "cell_type": "code",
      "source": [
        "# represent the y_test_pred with according precision\n",
        "for i in range(df2.shape[1]):\n",
        "   ypred.iloc[:,i] = ypred.iloc[:,i].replace(ref_df[i])\n",
        "\n",
        "ypred.columns = [1,2,3]\n",
        "ypred"
      ],
      "metadata": {
        "id": "zPrR_NUjy4yx"
      },
      "id": "zPrR_NUjy4yx",
      "execution_count": null,
      "outputs": []
    },
    {
      "cell_type": "code",
      "source": [
        "# For each sample, take the result from model with highest precision \n",
        "n=ypred.idxmax(axis='columns')\n",
        "result=[]\n",
        "for j in range(len(n)):\n",
        "    m=n[j]-1\n",
        "    result.append(ypred_org.iloc[j,m])"
      ],
      "metadata": {
        "id": "O5DYwSnMy7cb"
      },
      "id": "O5DYwSnMy7cb",
      "execution_count": null,
      "outputs": []
    },
    {
      "cell_type": "code",
      "source": [
        "# Calculate the precision for udf model\n",
        "metrics.classification_report(test_labels, result, output_dict=True)"
      ],
      "metadata": {
        "id": "NF2PaJp0zSsZ"
      },
      "id": "NF2PaJp0zSsZ",
      "execution_count": null,
      "outputs": []
    }
  ],
  "metadata": {
    "kernelspec": {
      "display_name": "Python 3 (ipykernel)",
      "language": "python",
      "name": "python3"
    },
    "language_info": {
      "codemirror_mode": {
        "name": "ipython",
        "version": 3
      },
      "file_extension": ".py",
      "mimetype": "text/x-python",
      "name": "python",
      "nbconvert_exporter": "python",
      "pygments_lexer": "ipython3",
      "version": "3.8.12"
    },
    "colab": {
      "name": "stat542_proj_no_preprocess.ipynb",
      "provenance": []
    }
  },
  "nbformat": 4,
  "nbformat_minor": 5
}