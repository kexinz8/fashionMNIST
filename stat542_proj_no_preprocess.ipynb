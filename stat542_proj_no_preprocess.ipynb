{
 "cells": [
  {
   "cell_type": "code",
   "execution_count": 17,
   "id": "5a1d974f",
   "metadata": {},
   "outputs": [],
   "source": [
    "import pandas as pd\n",
    "import numpy as np\n",
    "from sklearn.ensemble import GradientBoostingClassifier\n",
    "from lightgbm import LGBMClassifier\n",
    "from numpy import std\n",
    "from sklearn.datasets import make_classification\n",
    "from sklearn.model_selection import cross_val_score\n",
    "from sklearn.model_selection import RepeatedStratifiedKFold\n",
    "from sklearn.discriminant_analysis import LinearDiscriminantAnalysis\n",
    "from sklearn import metrics"
   ]
  },
  {
   "cell_type": "code",
   "execution_count": 2,
   "id": "0fd279ef",
   "metadata": {},
   "outputs": [],
   "source": [
    "train = pd.read_csv(\"C:\\\\Users\\\\asus\\\\Downloads\\\\542project\\\\fashion-mnist_train.csv\")\n",
    "test = pd.read_csv(\"C:\\\\Users\\\\asus\\\\Downloads\\\\542project\\\\fashion-mnist_test.csv\")"
   ]
  },
  {
   "cell_type": "code",
   "execution_count": 11,
   "id": "5f39807e",
   "metadata": {},
   "outputs": [],
   "source": [
    "train_x, test_x = train.iloc[:,1:], test.iloc[:,1:]\n",
    "train_labels, test_labels = train.iloc[:,0], test.iloc[:,0]"
   ]
  },
  {
   "cell_type": "code",
   "execution_count": null,
   "id": "87821ece",
   "metadata": {},
   "outputs": [],
   "source": []
  },
  {
   "cell_type": "code",
   "execution_count": 10,
   "id": "6125abcb",
   "metadata": {},
   "outputs": [],
   "source": []
  },
  {
   "cell_type": "markdown",
   "id": "e51b2426",
   "metadata": {},
   "source": [
    "# LightGBM"
   ]
  },
  {
   "cell_type": "code",
   "execution_count": 12,
   "id": "542b30b3",
   "metadata": {},
   "outputs": [],
   "source": [
    "lgb_model = LGBMClassifier(objective='multiclass',path_smooth = 0.2)"
   ]
  },
  {
   "cell_type": "code",
   "execution_count": 13,
   "id": "b4059e5e",
   "metadata": {},
   "outputs": [
    {
     "name": "stderr",
     "output_type": "stream",
     "text": [
      "C:\\Users\\asus\\anaconda3\\lib\\site-packages\\lightgbm\\basic.py:2065: UserWarning: Using categorical_feature in Dataset.\n",
      "  _log_warning('Using categorical_feature in Dataset.')\n"
     ]
    },
    {
     "data": {
      "text/plain": [
       "LGBMClassifier(objective='multiclass', path_smooth=0.2)"
      ]
     },
     "execution_count": 13,
     "metadata": {},
     "output_type": "execute_result"
    }
   ],
   "source": [
    "lgb_model.fit(train_x,train_labels,categorical_feature=[0,3])"
   ]
  },
  {
   "cell_type": "code",
   "execution_count": 18,
   "id": "256ee1d6",
   "metadata": {},
   "outputs": [
    {
     "name": "stdout",
     "output_type": "stream",
     "text": [
      "              precision    recall  f1-score   support\n",
      "\n",
      "           0       0.83      0.86      0.85      1000\n",
      "           1       0.99      0.98      0.99      1000\n",
      "           2       0.85      0.82      0.84      1000\n",
      "           3       0.91      0.93      0.92      1000\n",
      "           4       0.84      0.88      0.86      1000\n",
      "           5       0.99      0.96      0.97      1000\n",
      "           6       0.75      0.72      0.73      1000\n",
      "           7       0.94      0.97      0.96      1000\n",
      "           8       0.98      0.98      0.98      1000\n",
      "           9       0.96      0.96      0.96      1000\n",
      "\n",
      "    accuracy                           0.91     10000\n",
      "   macro avg       0.91      0.91      0.91     10000\n",
      "weighted avg       0.91      0.91      0.91     10000\n",
      "\n"
     ]
    }
   ],
   "source": [
    "expected_y  = test_labels\n",
    "predicted_y = lgb_model.predict(test_x)\n",
    "print(metrics.classification_report(expected_y, predicted_y))"
   ]
  },
  {
   "cell_type": "code",
   "execution_count": null,
   "id": "21fb155a",
   "metadata": {},
   "outputs": [],
   "source": []
  },
  {
   "cell_type": "code",
   "execution_count": null,
   "id": "7734fe64",
   "metadata": {},
   "outputs": [],
   "source": []
  },
  {
   "cell_type": "code",
   "execution_count": null,
   "id": "25fa98f4",
   "metadata": {},
   "outputs": [],
   "source": [
    "# dont run this part, i'm still tuning\n",
    "err_list = []\n",
    "for i in np.arange(0.0, 1.0, 0.1):\n",
    "    model = LGBMClassifier(objective='multiclass',path_smooth = i)\n",
    "    model.fit(X_train,y_train,categorical_feature=[0,3])\n",
    "    predictions = model.predict(X_test)\n",
    "    error = sum(predictions!=y_test)/len(y_test)\n",
    "    err_list.append(error)\n",
    "err_list"
   ]
  },
  {
   "cell_type": "code",
   "execution_count": null,
   "id": "36799b3f",
   "metadata": {},
   "outputs": [],
   "source": []
  },
  {
   "cell_type": "code",
   "execution_count": null,
   "id": "b65aab1f",
   "metadata": {},
   "outputs": [],
   "source": []
  },
  {
   "cell_type": "markdown",
   "id": "15b5792b",
   "metadata": {},
   "source": [
    "# LDA"
   ]
  },
  {
   "cell_type": "code",
   "execution_count": 23,
   "id": "abfbf016",
   "metadata": {},
   "outputs": [],
   "source": [
    "from sklearn.discriminant_analysis import LinearDiscriminantAnalysis as LDA"
   ]
  },
  {
   "cell_type": "code",
   "execution_count": 24,
   "id": "adc15297",
   "metadata": {},
   "outputs": [],
   "source": [
    "lda = LDA(n_components=9)"
   ]
  },
  {
   "cell_type": "code",
   "execution_count": 25,
   "id": "e0947bec",
   "metadata": {},
   "outputs": [
    {
     "name": "stdout",
     "output_type": "stream",
     "text": [
      "              precision    recall  f1-score   support\n",
      "\n",
      "           0       0.80      0.77      0.78      1000\n",
      "           1       0.99      0.94      0.97      1000\n",
      "           2       0.76      0.71      0.73      1000\n",
      "           3       0.82      0.87      0.85      1000\n",
      "           4       0.75      0.79      0.77      1000\n",
      "           5       0.86      0.89      0.88      1000\n",
      "           6       0.59      0.60      0.60      1000\n",
      "           7       0.87      0.85      0.86      1000\n",
      "           8       0.94      0.92      0.93      1000\n",
      "           9       0.90      0.91      0.90      1000\n",
      "\n",
      "    accuracy                           0.83     10000\n",
      "   macro avg       0.83      0.83      0.83     10000\n",
      "weighted avg       0.83      0.83      0.83     10000\n",
      "\n"
     ]
    }
   ],
   "source": [
    "expected_y  = test_labels\n",
    "predicted_y = lda_model.predict(test_x)\n",
    "print(metrics.classification_report(expected_y, predicted_y))"
   ]
  },
  {
   "cell_type": "code",
   "execution_count": null,
   "id": "d42799a1",
   "metadata": {},
   "outputs": [],
   "source": []
  },
  {
   "cell_type": "code",
   "execution_count": null,
   "id": "66ca766f",
   "metadata": {},
   "outputs": [],
   "source": []
  }
 ],
 "metadata": {
  "kernelspec": {
   "display_name": "Python 3 (ipykernel)",
   "language": "python",
   "name": "python3"
  },
  "language_info": {
   "codemirror_mode": {
    "name": "ipython",
    "version": 3
   },
   "file_extension": ".py",
   "mimetype": "text/x-python",
   "name": "python",
   "nbconvert_exporter": "python",
   "pygments_lexer": "ipython3",
   "version": "3.8.12"
  }
 },
 "nbformat": 4,
 "nbformat_minor": 5
}
