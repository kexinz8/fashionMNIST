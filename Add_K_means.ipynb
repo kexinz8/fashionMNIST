{
  "cells": [
    {
      "cell_type": "markdown",
      "metadata": {
        "id": "view-in-github",
        "colab_type": "text"
      },
      "source": [
        "<a href=\"https://colab.research.google.com/github/kexinz8/fashionMNIST/blob/main/Add_K_means.ipynb\" target=\"_parent\"><img src=\"https://colab.research.google.com/assets/colab-badge.svg\" alt=\"Open In Colab\"/></a>"
      ]
    },
    {
      "cell_type": "code",
      "execution_count": null,
      "metadata": {
        "id": "2zd7_Zx5ZucN",
        "scrolled": true
      },
      "outputs": [],
      "source": [
        "import tensorflow as tf\n",
        "from tensorflow.keras.datasets import fashion_mnist\n",
        "from matplotlib import pyplot as plt"
      ]
    },
    {
      "cell_type": "code",
      "execution_count": null,
      "metadata": {
        "id": "5lWShS0mZy4x",
        "outputId": "5b4cee30-4eee-4c95-a450-6c1fb8c30dae",
        "colab": {
          "base_uri": "https://localhost:8080/"
        }
      },
      "outputs": [
        {
          "output_type": "stream",
          "name": "stdout",
          "text": [
            "Downloading data from https://storage.googleapis.com/tensorflow/tf-keras-datasets/train-labels-idx1-ubyte.gz\n",
            "32768/29515 [=================================] - 0s 0us/step\n",
            "40960/29515 [=========================================] - 0s 0us/step\n",
            "Downloading data from https://storage.googleapis.com/tensorflow/tf-keras-datasets/train-images-idx3-ubyte.gz\n",
            "26427392/26421880 [==============================] - 1s 0us/step\n",
            "26435584/26421880 [==============================] - 1s 0us/step\n",
            "Downloading data from https://storage.googleapis.com/tensorflow/tf-keras-datasets/t10k-labels-idx1-ubyte.gz\n",
            "16384/5148 [===============================================================================================] - 0s 0us/step\n",
            "Downloading data from https://storage.googleapis.com/tensorflow/tf-keras-datasets/t10k-images-idx3-ubyte.gz\n",
            "4423680/4422102 [==============================] - 0s 0us/step\n",
            "4431872/4422102 [==============================] - 0s 0us/step\n"
          ]
        }
      ],
      "source": [
        "(train_data, train_labels), (test_data, test_labels) = fashion_mnist.load_data()"
      ]
    },
    {
      "cell_type": "markdown",
      "metadata": {
        "id": "scgNwN_4bR6m"
      },
      "source": [
        "#Data exploratory analysis"
      ]
    },
    {
      "cell_type": "code",
      "execution_count": null,
      "metadata": {
        "colab": {
          "base_uri": "https://localhost:8080/"
        },
        "id": "t8z57Q4fZ2wb",
        "outputId": "4eaceb38-13d0-4b3e-e592-fdd2e193ea28"
      },
      "outputs": [
        {
          "output_type": "stream",
          "name": "stdout",
          "text": [
            "(60000, 28, 28)\n",
            "(10000, 28, 28)\n"
          ]
        }
      ],
      "source": [
        "# check the shape of train and test datasets\n",
        "print(train_data.shape)\n",
        "print(test_data.shape)\n"
      ]
    },
    {
      "cell_type": "code",
      "execution_count": null,
      "metadata": {
        "colab": {
          "base_uri": "https://localhost:8080/"
        },
        "id": "SiIX67BWXHaW",
        "outputId": "8d0a55fd-fcb7-4272-ba67-653e1a163c3c"
      },
      "outputs": [
        {
          "output_type": "execute_result",
          "data": {
            "text/plain": [
              "(array([0, 1, 2, 3, 4, 5, 6, 7, 8, 9], dtype=uint8),\n",
              " array([6000, 6000, 6000, 6000, 6000, 6000, 6000, 6000, 6000, 6000]))"
            ]
          },
          "metadata": {},
          "execution_count": 4
        }
      ],
      "source": [
        "import numpy as np\n",
        "np.unique(train_labels, return_counts=True)"
      ]
    },
    {
      "cell_type": "markdown",
      "metadata": {
        "id": "e44WLkuBX9G7"
      },
      "source": [
        "There are 10 categories with 6000 each, in the training dataset."
      ]
    },
    {
      "cell_type": "markdown",
      "metadata": {
        "id": "FIEXphuhuUH6"
      },
      "source": [
        "####Data Preprocsseing"
      ]
    },
    {
      "cell_type": "markdown",
      "metadata": {
        "id": "cCV7agjaud8v"
      },
      "source": [
        "Most clustering algorithms take 1-D array as input, so do transformation on the original dataset(flatten)"
      ]
    },
    {
      "cell_type": "code",
      "execution_count": null,
      "metadata": {
        "colab": {
          "base_uri": "https://localhost:8080/"
        },
        "id": "HeWtj3N5ue92",
        "outputId": "da5bcff9-4ed3-47fb-911c-120481627918"
      },
      "outputs": [
        {
          "output_type": "stream",
          "name": "stdout",
          "text": [
            "(60000, 784)\n"
          ]
        }
      ],
      "source": [
        "# transform data into 1-D\n",
        "train_x = train_data.reshape(train_data.shape[0], -1).astype('float32')\n",
        "test_x = test_data.reshape(test_data.shape[0], -1).astype('float32')\n",
        "\n",
        "# standardization\n",
        "train_x = train_x/train_x.max()\n",
        "test_x = test_x/test_x.max()\n",
        "print(train_x.shape)"
      ]
    },
    {
      "cell_type": "markdown",
      "metadata": {
        "id": "BMi0LjSabRcb"
      },
      "source": [
        "####Visualization"
      ]
    },
    {
      "cell_type": "code",
      "execution_count": null,
      "metadata": {
        "id": "N9yX0woAy4G5"
      },
      "outputs": [],
      "source": [
        "# Name the lables\n",
        "labels = ['T-shirt/top', 'Trouser', 'Pullover', 'Dress', 'Coat', 'Sandal', 'Shirt', 'Sneaker', 'Bag', 'Ankle boot']\n"
      ]
    },
    {
      "cell_type": "markdown",
      "source": [
        "## K-Means"
      ],
      "metadata": {
        "id": "Z4WYXYZU1SRZ"
      }
    },
    {
      "cell_type": "code",
      "source": [
        "from sklearn.cluster import KMeans\n",
        "# select the number of k\n",
        "knumbers = [2, 5, 10, 15, 20]\n",
        "len(knumbers)\n",
        "\n",
        "sse_train = []\n",
        "for k in knumbers:\n",
        "    kmeans = KMeans(init = \"random\", n_clusters = k, n_init = 35)\n",
        "    kmeans.fit(train_x)\n",
        "    sse_train.append(kmeans.inertia_)"
      ],
      "metadata": {
        "id": "FjVUCqsE1VYI"
      },
      "execution_count": null,
      "outputs": []
    },
    {
      "cell_type": "code",
      "source": [
        "print(sse_train)\n",
        "\n",
        "plt.style.use(\"fivethirtyeight\")\n",
        "plt.plot(knumbers, sse_train)\n",
        "plt.xticks(knumbers)\n",
        "plt.xlabel(\"Number of Clusters\")\n",
        "plt.ylabel(\"SSE\")\n",
        "plt.show()"
      ],
      "metadata": {
        "colab": {
          "base_uri": "https://localhost:8080/",
          "height": 336
        },
        "id": "PCKd6FSe15l7",
        "outputId": "77ed3c91-e959-43e9-e780-73b0647052e4"
      },
      "execution_count": null,
      "outputs": [
        {
          "output_type": "stream",
          "name": "stdout",
          "text": [
            "[3233024.5, 2352604.0, 1906646.625, 1710881.25, 1597815.0]\n"
          ]
        },
        {
          "output_type": "display_data",
          "data": {
            "text/plain": [
              "<Figure size 432x288 with 1 Axes>"
            ],
            "image/png": "[encoded data removed]"
          },
          "metadata": {}
        }
      ]
    },
    {
      "cell_type": "code",
      "source": [
        "# 420 features\n",
        "kmeans = KMeans(init = \"random\", n_clusters = 10, n_init = 35)\n",
        "kmeans.fit(train_x)\n",
        "\n",
        "kmeans_cluster_labels = kmeans.labels_\n",
        "\n",
        "label_column = train_labels\n",
        "labels = len(np.unique(label_column))\n",
        "print(labels)\n",
        "label_names = {0:'T-shirt/top', 1:'Trouser',2: 'Pullover',3: 'Dress',4: 'Coat',5:\n",
        "               'Sandal',6: 'Shirt', 7:'Sneaker',8:  'Bag',9: 'Ankle boot'}\n",
        "\n",
        "num_cluster_labels = len(np.unique(kmeans_cluster_labels))\n",
        "\n",
        "cluster_indexes = [[] for i in range(labels)]\n",
        "\n",
        "for i, label in enumerate(kmeans_cluster_labels):\n",
        "    for n in range(num_cluster_labels):\n",
        "        if label == n:\n",
        "            cluster_indexes[n].append(i)\n",
        "        else:\n",
        "            continue\n",
        "            \n",
        "#number of datapoints in individual clusters\n",
        "print('Without PCA')\n",
        "for i in range(num_cluster_labels):\n",
        "    print('No. of items in Cluster ' + str(i) + ': ' + str(len(cluster_indexes[i])))"
      ],
      "metadata": {
        "colab": {
          "base_uri": "https://localhost:8080/"
        },
        "id": "RhhJz1P21-uw",
        "outputId": "ad479b9e-3dc9-4a6b-c43f-07527cc81c17"
      },
      "execution_count": null,
      "outputs": [
        {
          "output_type": "stream",
          "name": "stdout",
          "text": [
            "10\n",
            "Without PCA\n",
            "No. of items in Cluster 0: 9619\n",
            "No. of items in Cluster 1: 9078\n",
            "No. of items in Cluster 2: 7466\n",
            "No. of items in Cluster 3: 4292\n",
            "No. of items in Cluster 4: 6572\n",
            "No. of items in Cluster 5: 2347\n",
            "No. of items in Cluster 6: 7763\n",
            "No. of items in Cluster 7: 2903\n",
            "No. of items in Cluster 8: 7391\n",
            "No. of items in Cluster 9: 2569\n"
          ]
        }
      ]
    },
    {
      "cell_type": "code",
      "source": [
        "#assigning actual label values(from train dataset) along side the indices of items of each cluster\n",
        "Y_label_values = [ [] for i in range(labels)]\n",
        "for i in range(labels):\n",
        "    Y_label_values[i]= label_column[cluster_indexes[i]] \n",
        "print(Y_label_values[0])\n",
        "#print(type(Y_label_values))\n",
        "for index, label in enumerate(Y_label_values):\n",
        "    print('Index='+ str(index))\n",
        "    print('Label=' + str(label))"
      ],
      "metadata": {
        "colab": {
          "base_uri": "https://localhost:8080/"
        },
        "id": "6ZIUROAA1jVA",
        "outputId": "32c72f62-438a-44e4-e432-2ef00eba223d"
      },
      "execution_count": null,
      "outputs": [
        {
          "output_type": "stream",
          "name": "stdout",
          "text": [
            "[2 2 6 ... 4 4 6]\n",
            "Index=0\n",
            "Label=[2 2 6 ... 4 4 6]\n",
            "Index=1\n",
            "Label=[0 1 1 ... 1 1 1]\n",
            "Index=2\n",
            "Label=[3 4 4 ... 4 4 2]\n",
            "Index=3\n",
            "Label=[9 9 9 ... 9 7 7]\n",
            "Index=4\n",
            "Label=[7 5 5 ... 5 5 7]\n",
            "Index=5\n",
            "Label=[8 8 8 ... 8 8 8]\n",
            "Index=6\n",
            "Label=[0 5 5 ... 5 0 5]\n",
            "Index=7\n",
            "Label=[9 9 9 ... 9 9 9]\n",
            "Index=8\n",
            "Label=[0 0 0 ... 0 6 3]\n",
            "Index=9\n",
            "Label=[8 8 4 ... 8 2 8]\n"
          ]
        }
      ]
    },
    {
      "cell_type": "code",
      "source": [
        "#number of dataitems of a certain category in each cluster\n",
        "label_count = [[] for i in range(labels)]\n",
        "for index, label in enumerate(Y_label_values):\n",
        "    unique,count = np.unique(label, return_counts = True) #returns the individual label values and counts as lists\n",
        "    label_count[index]= dict(zip(unique,count)) #converts two lists into a dictionary\n",
        "print(label_count[0])   \n",
        "print(label_count[1])  "
      ],
      "metadata": {
        "colab": {
          "base_uri": "https://localhost:8080/"
        },
        "id": "teQdQqmb7mln",
        "outputId": "e9cb76a8-8201-45aa-cbb2-e0726c1e6f21"
      },
      "execution_count": null,
      "outputs": [
        {
          "output_type": "stream",
          "name": "stdout",
          "text": [
            "{0: 167, 1: 63, 2: 3519, 3: 49, 4: 3596, 6: 1955, 8: 269, 9: 1}\n",
            "{0: 201, 1: 5413, 2: 9, 3: 3208, 4: 154, 5: 1, 6: 62, 8: 28, 9: 2}\n"
          ]
        }
      ]
    },
    {
      "cell_type": "code",
      "source": [
        "#Visualization of cluster points using barplots\n",
        "print('Cluster visualization without PCA')\n",
        "plt.figure(figsize=(18,20))\n",
        "for i in range(1,11):\n",
        "    plt.subplot(5,2,i)\n",
        "    label_count_=label_count[i-1]\n",
        "    plt.bar(range(len(label_count_)),list(label_count_.values()),align='center')\n",
        "    plt.title('Cluster' + str(i-1))\n",
        "    a=[]\n",
        "    for key,value in label_count_.items():\n",
        "        for key1, value1 in label_names.items():\n",
        "            if key1 == key:\n",
        "                a.append(value1)\n",
        "                break\n",
        "    plt.xticks(range(len(a)),a)   "
      ],
      "metadata": {
        "colab": {
          "base_uri": "https://localhost:8080/",
          "height": 1000
        },
        "id": "YHl9WHy-9au8",
        "outputId": "1a035dbc-6121-49ce-f336-60426e2c02fc"
      },
      "execution_count": null,
      "outputs": [
        {
          "output_type": "stream",
          "name": "stdout",
          "text": [
            "Cluster visualization without PCA\n"
          ]
        },
        {
          "output_type": "display_data",
          "data": {
            "text/plain": [
              "<Figure size 1296x1440 with 10 Axes>"
            ],
            "image/png": "[encoded data removed]"
          },
          "metadata": {}
        }
      ]
    },
    {
      "cell_type": "code",
      "execution_count": null,
      "metadata": {
        "colab": {
          "base_uri": "https://localhost:8080/",
          "height": 132
        },
        "id": "JFSFAMu6WCa_",
        "outputId": "68f3dd95-98e6-43dc-ae79-bbedc4658d7d"
      },
      "outputs": [
        {
          "output_type": "display_data",
          "data": {
            "text/plain": [
              "<Figure size 864x576 with 7 Axes>"
            ],
            "image/png": "[encoded data removed]"
          },
          "metadata": {}
        }
      ],
      "source": [
        "# Name the lables\n",
        "labels = ['T-shirt/top', 'Trouser', 'Pullover', 'Dress', 'Coat', 'Sandal', 'Shirt', 'Sneaker', 'Bag', 'Ankle boot']\n",
        "\n",
        "\n",
        "# Randomly choose some images\n",
        "import random\n",
        "random.seed(9)\n",
        "\n",
        "fig = plt.figure(figsize=[12, 8])\n",
        "cnt=1\n",
        "for i in random.sample(range(0, 60000), 7):\n",
        "  ax = fig.add_subplot(1, 8, cnt+1, xticks=[], yticks=[])\n",
        "  ax.imshow(train_data[i], cmap=\"twilight\")\n",
        "  ax.set_title(str(labels[train_labels[i]]))\n",
        "  cnt=cnt+1"
      ]
    },
    {
      "cell_type": "markdown",
      "metadata": {
        "id": "2qI-0Ow0cQ2J"
      },
      "source": [
        "##Unsupervised Learning\n",
        "#### Mini-Batch KMeans"
      ]
    },
    {
      "cell_type": "code",
      "execution_count": null,
      "metadata": {
        "id": "UwoUYGlGboXQ"
      },
      "outputs": [],
      "source": [
        "from sklearn.cluster import MiniBatchKMeans\n",
        "from sklearn.metrics.pairwise import pairwise_distances_argmin\n",
        "from sklearn.datasets import make_blobs"
      ]
    },
    {
      "cell_type": "code",
      "execution_count": null,
      "metadata": {
        "id": "v0Xp6p4HgX_H"
      },
      "outputs": [],
      "source": [
        "k_cluster=MiniBatchKMeans(batch_size=100, compute_labels=True, init='k-means++',\n",
        "                init_size=None, max_iter=50, max_no_improvement=10,\n",
        "                n_clusters=10, n_init=3, random_state=542,\n",
        "                reassignment_ratio=0.008, tol=0.0, verbose=0)"
      ]
    },
    {
      "cell_type": "code",
      "execution_count": null,
      "metadata": {
        "colab": {
          "base_uri": "https://localhost:8080/"
        },
        "id": "WW30HzEfxT4q",
        "outputId": "c494e2f1-4709-4a1c-ce77-6612fa7c52a5"
      },
      "outputs": [
        {
          "name": "stderr",
          "output_type": "stream",
          "text": [
            "C:\\Users\\user\\anaconda3\\lib\\site-packages\\sklearn\\cluster\\_kmeans.py:887: UserWarning: MiniBatchKMeans is known to have a memory leak on Windows with MKL, when there are less chunks than available threads. You can prevent it by setting batch_size >= 1024 or by setting the environment variable OMP_NUM_THREADS=1\n",
            "  warnings.warn(\n"
          ]
        },
        {
          "data": {
            "text/plain": [
              "MiniBatchKMeans(max_iter=50, n_clusters=10, random_state=542,\n",
              "                reassignment_ratio=0.008)"
            ]
          },
          "execution_count": 12,
          "metadata": {},
          "output_type": "execute_result"
        }
      ],
      "source": [
        "k_cluster.fit(train_x)"
      ]
    },
    {
      "cell_type": "code",
      "execution_count": null,
      "metadata": {
        "id": "K2bxBntTxZJ5"
      },
      "outputs": [],
      "source": [
        "label2cluster = {}\n",
        "\n",
        "for i in range(k_cluster.n_clusters):\n",
        "    labels = []\n",
        "    indeces = np.where(k_cluster.labels_ == i)\n",
        "    labels.append(train_labels[indeces])"
      ]
    },
    {
      "cell_type": "markdown",
      "metadata": {
        "id": "MBx3qOWItBP6"
      },
      "source": [
        "For each y_label, check which category they are mostly concentrated in"
      ]
    },
    {
      "cell_type": "code",
      "execution_count": null,
      "metadata": {
        "id": "q1nsWWs8xjuc"
      },
      "outputs": [],
      "source": [
        "def get_label2cluster_mapper(kmeans, ground_trues):\n",
        "\n",
        "    label2cluster = {}\n",
        "    for i in range(kmeans.n_clusters):\n",
        "        labels = []\n",
        "        indeces = np.where(kmeans.labels_ == i)\n",
        "        labels.append(ground_trues[indeces])\n",
        "        #labels = ground_trues[indeces]\n",
        "        #hist = (np.bincount(np.squeeze(labels)))\n",
        "        \n",
        "        if len(labels[0]) == 1:\n",
        "            hist = np.bincount(labels[0])\n",
        "        else:\n",
        "            hist = np.bincount(np.squeeze(labels))\n",
        "\n",
        "        if np.argmax(hist) in label2cluster:\n",
        "            label2cluster[np.argmax(hist)].append(i)\n",
        "        else:\n",
        "            label2cluster[np.argmax(hist)] = [i]\n",
        "\n",
        "    return label2cluster"
      ]
    },
    {
      "cell_type": "code",
      "execution_count": null,
      "metadata": {
        "colab": {
          "base_uri": "https://localhost:8080/"
        },
        "id": "3i983wvOxl2e",
        "outputId": "b778e0f6-fc43-4e44-c846-a1dec0e2fe70"
      },
      "outputs": [
        {
          "data": {
            "text/plain": [
              "{5: [0], 6: [1], 2: [2], 9: [3, 4], 0: [5], 1: [6], 8: [7], 4: [8], 7: [9]}"
            ]
          },
          "execution_count": 15,
          "metadata": {},
          "output_type": "execute_result"
        }
      ],
      "source": [
        "get_label2cluster_mapper(k_cluster, train_labels)"
      ]
    },
    {
      "cell_type": "markdown",
      "source": [
        "#### GMM(Gaussian Mixed Model)"
      ],
      "metadata": {
        "id": "VT3rEK3MMS5J"
      }
    },
    {
      "cell_type": "code",
      "source": [
        "from sklearn.mixture import GaussianMixture\n",
        "from sklearn.metrics import confusion_matrix"
      ],
      "metadata": {
        "id": "lsvFPxdfMbJP"
      },
      "execution_count": null,
      "outputs": []
    },
    {
      "cell_type": "code",
      "source": [
        "gmm = GaussianMixture(n_components=10).fit(train_x)\n",
        "gmmlabels = gmm.predict(train_x)\n",
        "confusionmatrix_GMM = confusion_matrix(train_labels, gmmlabels)\n",
        "print(confusionmatrix_GMM)\n",
        "pd.DataFrame(confusionmatrix_GMM).transpose()"
      ],
      "metadata": {
        "colab": {
          "base_uri": "https://localhost:8080/",
          "height": 388
        },
        "id": "4OgjPtEnMgq2",
        "outputId": "a1cf3e13-5035-4c89-e31b-800f99bd74a0"
      },
      "execution_count": null,
      "outputs": [
        {
          "output_type": "stream",
          "name": "stdout",
          "text": [
            "[[   0 4366  721  127    0    3   55   74  296  358]\n",
            " [   0   46  516    2    0    0 5340    5    7   84]\n",
            " [   0  299  417 3861    0    0    2   56  134 1231]\n",
            " [   0  337 3490  133    0    0 1802   18   22  198]\n",
            " [   0  248 1183 3746    0    0   33    6   57  727]\n",
            " [1363    0    6    0  904 3299    0  384   34   10]\n",
            " [   0 1156  542 2526    0    1   19  112  412 1232]\n",
            " [ 905    0    0    0   32 5048    0    1   14    0]\n",
            " [   9  295  381   13    3  327   33   66 3736 1137]\n",
            " [3328    0    3    0 2216  425    0    7   11   10]]\n"
          ]
        },
        {
          "output_type": "error",
          "ename": "NameError",
          "evalue": "ignored",
          "traceback": [
            "\u001b[0;31m---------------------------------------------------------------------------\u001b[0m",
            "\u001b[0;31mNameError\u001b[0m                                 Traceback (most recent call last)",
            "\u001b[0;32m<ipython-input-18-28192aaf75e5>\u001b[0m in \u001b[0;36m<module>\u001b[0;34m()\u001b[0m\n\u001b[1;32m      3\u001b[0m \u001b[0mconfusionmatrix_GMM\u001b[0m \u001b[0;34m=\u001b[0m \u001b[0mconfusion_matrix\u001b[0m\u001b[0;34m(\u001b[0m\u001b[0mtrain_labels\u001b[0m\u001b[0;34m,\u001b[0m \u001b[0mgmmlabels\u001b[0m\u001b[0;34m)\u001b[0m\u001b[0;34m\u001b[0m\u001b[0;34m\u001b[0m\u001b[0m\n\u001b[1;32m      4\u001b[0m \u001b[0mprint\u001b[0m\u001b[0;34m(\u001b[0m\u001b[0mconfusionmatrix_GMM\u001b[0m\u001b[0;34m)\u001b[0m\u001b[0;34m\u001b[0m\u001b[0;34m\u001b[0m\u001b[0m\n\u001b[0;32m----> 5\u001b[0;31m \u001b[0mpd\u001b[0m\u001b[0;34m.\u001b[0m\u001b[0mDataFrame\u001b[0m\u001b[0;34m(\u001b[0m\u001b[0mconfusionmatrix_GMM\u001b[0m\u001b[0;34m)\u001b[0m\u001b[0;34m.\u001b[0m\u001b[0mtranspose\u001b[0m\u001b[0;34m(\u001b[0m\u001b[0;34m)\u001b[0m\u001b[0;34m\u001b[0m\u001b[0;34m\u001b[0m\u001b[0m\n\u001b[0m",
            "\u001b[0;31mNameError\u001b[0m: name 'pd' is not defined"
          ]
        }
      ]
    },
    {
      "cell_type": "code",
      "source": [
        "import pandas as pd\n",
        "pd.DataFrame(confusionmatrix_GMM).transpose()"
      ],
      "metadata": {
        "colab": {
          "base_uri": "https://localhost:8080/",
          "height": 363
        },
        "id": "D8a9-h_IXWjV",
        "outputId": "faa47e90-9184-436f-fc5d-561e4ebaaae6"
      },
      "execution_count": null,
      "outputs": [
        {
          "output_type": "execute_result",
          "data": {
            "text/plain": [
              "      0     1     2     3     4     5     6     7     8     9\n",
              "0     0     0     0     0     0  1363     0   905     9  3328\n",
              "1  4366    46   299   337   248     0  1156     0   295     0\n",
              "2   721   516   417  3490  1183     6   542     0   381     3\n",
              "3   127     2  3861   133  3746     0  2526     0    13     0\n",
              "4     0     0     0     0     0   904     0    32     3  2216\n",
              "5     3     0     0     0     0  3299     1  5048   327   425\n",
              "6    55  5340     2  1802    33     0    19     0    33     0\n",
              "7    74     5    56    18     6   384   112     1    66     7\n",
              "8   296     7   134    22    57    34   412    14  3736    11\n",
              "9   358    84  1231   198   727    10  1232     0  1137    10"
            ],
            "text/html": [
              "\n",
              "  <div id=\"df-5f2e0523-3074-4e79-92f7-59d7f9f8c683\">\n",
              "    <div class=\"colab-df-container\">\n",
              "      <div>\n",
              "<style scoped>\n",
              "    .dataframe tbody tr th:only-of-type {\n",
              "        vertical-align: middle;\n",
              "    }\n",
              "\n",
              "    .dataframe tbody tr th {\n",
              "        vertical-align: top;\n",
              "    }\n",
              "\n",
              "    .dataframe thead th {\n",
              "        text-align: right;\n",
              "    }\n",
              "</style>\n",
              "<table border=\"1\" class=\"dataframe\">\n",
              "  <thead>\n",
              "    <tr style=\"text-align: right;\">\n",
              "      <th></th>\n",
              "      <th>0</th>\n",
              "      <th>1</th>\n",
              "      <th>2</th>\n",
              "      <th>3</th>\n",
              "      <th>4</th>\n",
              "      <th>5</th>\n",
              "      <th>6</th>\n",
              "      <th>7</th>\n",
              "      <th>8</th>\n",
              "      <th>9</th>\n",
              "    </tr>\n",
              "  </thead>\n",
              "  <tbody>\n",
              "    <tr>\n",
              "      <th>0</th>\n",
              "      <td>0</td>\n",
              "      <td>0</td>\n",
              "      <td>0</td>\n",
              "      <td>0</td>\n",
              "      <td>0</td>\n",
              "      <td>1363</td>\n",
              "      <td>0</td>\n",
              "      <td>905</td>\n",
              "      <td>9</td>\n",
              "      <td>3328</td>\n",
              "    </tr>\n",
              "    <tr>\n",
              "      <th>1</th>\n",
              "      <td>4366</td>\n",
              "      <td>46</td>\n",
              "      <td>299</td>\n",
              "      <td>337</td>\n",
              "      <td>248</td>\n",
              "      <td>0</td>\n",
              "      <td>1156</td>\n",
              "      <td>0</td>\n",
              "      <td>295</td>\n",
              "      <td>0</td>\n",
              "    </tr>\n",
              "    <tr>\n",
              "      <th>2</th>\n",
              "      <td>721</td>\n",
              "      <td>516</td>\n",
              "      <td>417</td>\n",
              "      <td>3490</td>\n",
              "      <td>1183</td>\n",
              "      <td>6</td>\n",
              "      <td>542</td>\n",
              "      <td>0</td>\n",
              "      <td>381</td>\n",
              "      <td>3</td>\n",
              "    </tr>\n",
              "    <tr>\n",
              "      <th>3</th>\n",
              "      <td>127</td>\n",
              "      <td>2</td>\n",
              "      <td>3861</td>\n",
              "      <td>133</td>\n",
              "      <td>3746</td>\n",
              "      <td>0</td>\n",
              "      <td>2526</td>\n",
              "      <td>0</td>\n",
              "      <td>13</td>\n",
              "      <td>0</td>\n",
              "    </tr>\n",
              "    <tr>\n",
              "      <th>4</th>\n",
              "      <td>0</td>\n",
              "      <td>0</td>\n",
              "      <td>0</td>\n",
              "      <td>0</td>\n",
              "      <td>0</td>\n",
              "      <td>904</td>\n",
              "      <td>0</td>\n",
              "      <td>32</td>\n",
              "      <td>3</td>\n",
              "      <td>2216</td>\n",
              "    </tr>\n",
              "    <tr>\n",
              "      <th>5</th>\n",
              "      <td>3</td>\n",
              "      <td>0</td>\n",
              "      <td>0</td>\n",
              "      <td>0</td>\n",
              "      <td>0</td>\n",
              "      <td>3299</td>\n",
              "      <td>1</td>\n",
              "      <td>5048</td>\n",
              "      <td>327</td>\n",
              "      <td>425</td>\n",
              "    </tr>\n",
              "    <tr>\n",
              "      <th>6</th>\n",
              "      <td>55</td>\n",
              "      <td>5340</td>\n",
              "      <td>2</td>\n",
              "      <td>1802</td>\n",
              "      <td>33</td>\n",
              "      <td>0</td>\n",
              "      <td>19</td>\n",
              "      <td>0</td>\n",
              "      <td>33</td>\n",
              "      <td>0</td>\n",
              "    </tr>\n",
              "    <tr>\n",
              "      <th>7</th>\n",
              "      <td>74</td>\n",
              "      <td>5</td>\n",
              "      <td>56</td>\n",
              "      <td>18</td>\n",
              "      <td>6</td>\n",
              "      <td>384</td>\n",
              "      <td>112</td>\n",
              "      <td>1</td>\n",
              "      <td>66</td>\n",
              "      <td>7</td>\n",
              "    </tr>\n",
              "    <tr>\n",
              "      <th>8</th>\n",
              "      <td>296</td>\n",
              "      <td>7</td>\n",
              "      <td>134</td>\n",
              "      <td>22</td>\n",
              "      <td>57</td>\n",
              "      <td>34</td>\n",
              "      <td>412</td>\n",
              "      <td>14</td>\n",
              "      <td>3736</td>\n",
              "      <td>11</td>\n",
              "    </tr>\n",
              "    <tr>\n",
              "      <th>9</th>\n",
              "      <td>358</td>\n",
              "      <td>84</td>\n",
              "      <td>1231</td>\n",
              "      <td>198</td>\n",
              "      <td>727</td>\n",
              "      <td>10</td>\n",
              "      <td>1232</td>\n",
              "      <td>0</td>\n",
              "      <td>1137</td>\n",
              "      <td>10</td>\n",
              "    </tr>\n",
              "  </tbody>\n",
              "</table>\n",
              "</div>\n",
              "      <button class=\"colab-df-convert\" onclick=\"convertToInteractive('df-5f2e0523-3074-4e79-92f7-59d7f9f8c683')\"\n",
              "              title=\"Convert this dataframe to an interactive table.\"\n",
              "              style=\"display:none;\">\n",
              "        \n",
              "  <svg xmlns=\"http://www.w3.org/2000/svg\" height=\"24px\"viewBox=\"0 0 24 24\"\n",
              "       width=\"24px\">\n",
              "    <path d=\"M0 0h24v24H0V0z\" fill=\"none\"/>\n",
              "    <path d=\"M18.56 5.44l.94 2.06.94-2.06 2.06-.94-2.06-.94-.94-2.06-.94 2.06-2.06.94zm-11 1L8.5 8.5l.94-2.06 2.06-.94-2.06-.94L8.5 2.5l-.94 2.06-2.06.94zm10 10l.94 2.06.94-2.06 2.06-.94-2.06-.94-.94-2.06-.94 2.06-2.06.94z\"/><path d=\"M17.41 7.96l-1.37-1.37c-.4-.4-.92-.59-1.43-.59-.52 0-1.04.2-1.43.59L10.3 9.45l-7.72 7.72c-.78.78-.78 2.05 0 2.83L4 21.41c.39.39.9.59 1.41.59.51 0 1.02-.2 1.41-.59l7.78-7.78 2.81-2.81c.8-.78.8-2.07 0-2.86zM5.41 20L4 18.59l7.72-7.72 1.47 1.35L5.41 20z\"/>\n",
              "  </svg>\n",
              "      </button>\n",
              "      \n",
              "  <style>\n",
              "    .colab-df-container {\n",
              "      display:flex;\n",
              "      flex-wrap:wrap;\n",
              "      gap: 12px;\n",
              "    }\n",
              "\n",
              "    .colab-df-convert {\n",
              "      background-color: #E8F0FE;\n",
              "      border: none;\n",
              "      border-radius: 50%;\n",
              "      cursor: pointer;\n",
              "      display: none;\n",
              "      fill: #1967D2;\n",
              "      height: 32px;\n",
              "      padding: 0 0 0 0;\n",
              "      width: 32px;\n",
              "    }\n",
              "\n",
              "    .colab-df-convert:hover {\n",
              "      background-color: #E2EBFA;\n",
              "      box-shadow: 0px 1px 2px rgba(60, 64, 67, 0.3), 0px 1px 3px 1px rgba(60, 64, 67, 0.15);\n",
              "      fill: #174EA6;\n",
              "    }\n",
              "\n",
              "    [theme=dark] .colab-df-convert {\n",
              "      background-color: #3B4455;\n",
              "      fill: #D2E3FC;\n",
              "    }\n",
              "\n",
              "    [theme=dark] .colab-df-convert:hover {\n",
              "      background-color: #434B5C;\n",
              "      box-shadow: 0px 1px 3px 1px rgba(0, 0, 0, 0.15);\n",
              "      filter: drop-shadow(0px 1px 2px rgba(0, 0, 0, 0.3));\n",
              "      fill: #FFFFFF;\n",
              "    }\n",
              "  </style>\n",
              "\n",
              "      <script>\n",
              "        const buttonEl =\n",
              "          document.querySelector('#df-5f2e0523-3074-4e79-92f7-59d7f9f8c683 button.colab-df-convert');\n",
              "        buttonEl.style.display =\n",
              "          google.colab.kernel.accessAllowed ? 'block' : 'none';\n",
              "\n",
              "        async function convertToInteractive(key) {\n",
              "          const element = document.querySelector('#df-5f2e0523-3074-4e79-92f7-59d7f9f8c683');\n",
              "          const dataTable =\n",
              "            await google.colab.kernel.invokeFunction('convertToInteractive',\n",
              "                                                     [key], {});\n",
              "          if (!dataTable) return;\n",
              "\n",
              "          const docLinkHtml = 'Like what you see? Visit the ' +\n",
              "            '<a target=\"_blank\" href=https://colab.research.google.com/notebooks/data_table.ipynb>data table notebook</a>'\n",
              "            + ' to learn more about interactive tables.';\n",
              "          element.innerHTML = '';\n",
              "          dataTable['output_type'] = 'display_data';\n",
              "          await google.colab.output.renderOutput(dataTable, element);\n",
              "          const docLink = document.createElement('div');\n",
              "          docLink.innerHTML = docLinkHtml;\n",
              "          element.appendChild(docLink);\n",
              "        }\n",
              "      </script>\n",
              "    </div>\n",
              "  </div>\n",
              "  "
            ]
          },
          "metadata": {},
          "execution_count": 20
        }
      ]
    },
    {
      "cell_type": "markdown",
      "metadata": {
        "id": "dyM6EIFiH9X-"
      },
      "source": [
        "## LightGBM"
      ]
    },
    {
      "cell_type": "code",
      "execution_count": null,
      "metadata": {
        "id": "0UFUtdwzIBxV"
      },
      "outputs": [],
      "source": [
        "from sklearn import metrics\n",
        "import lightgbm as ltg\n",
        "from sklearn.model_selection import cross_val_score\n",
        "import time\n",
        "start_time = time.time()"
      ]
    },
    {
      "cell_type": "markdown",
      "metadata": {
        "id": "waRxtiOfOXb9"
      },
      "source": [
        "Light gradient bosting model fitting"
      ]
    },
    {
      "cell_type": "code",
      "execution_count": null,
      "metadata": {
        "id": "G6Yt6bfkNA61"
      },
      "outputs": [],
      "source": [
        "ltg_model =ltg.LGBMClassifier(boosting_type='gbdt', objective='multiclass', num_class=10, num_iteration=100, max_depth=4, learning_rate=0.01, n_estimators=100, n_thread=4, slient=False)"
      ]
    },
    {
      "cell_type": "code",
      "execution_count": null,
      "metadata": {
        "colab": {
          "base_uri": "https://localhost:8080/"
        },
        "id": "DovCJFYYPHYd",
        "outputId": "b25b3311-3fbf-496e-be2f-61342816c975"
      },
      "outputs": [
        {
          "name": "stderr",
          "output_type": "stream",
          "text": [
            "[Parallel(n_jobs=-1)]: Using backend LokyBackend with 4 concurrent workers.\n",
            "[Parallel(n_jobs=-1)]: Done   2 out of   2 | elapsed:  4.2min finished\n"
          ]
        }
      ],
      "source": [
        "cv_results = cross_val_score(ltg_model, train_x, train_labels, cv=2, scoring='accuracy', n_jobs=-1, verbose=1)"
      ]
    },
    {
      "cell_type": "code",
      "execution_count": null,
      "metadata": {
        "colab": {
          "base_uri": "https://localhost:8080/"
        },
        "id": "Y895OCR6P_iJ",
        "outputId": "f1a444c3-3d64-4a31-8b66-58f56e7a362f"
      },
      "outputs": [
        {
          "data": {
            "text/plain": [
              "LGBMClassifier(objective='multiclass')"
            ]
          },
          "execution_count": 42,
          "metadata": {},
          "output_type": "execute_result"
        }
      ],
      "source": [
        "ltg_model.fit(train_x, train_labels)"
      ]
    },
    {
      "cell_type": "code",
      "execution_count": null,
      "metadata": {
        "colab": {
          "base_uri": "https://localhost:8080/"
        },
        "id": "3OiJcqTcSQJd",
        "outputId": "30eccadb-e635-4da0-dd04-0222ae43ef69"
      },
      "outputs": [
        {
          "name": "stdout",
          "output_type": "stream",
          "text": [
            "[0.82833333 0.83206667]\n",
            "LGBMClassifier(learning_rate=0.01, max_depth=4, n_thread=4, num_class=10,\n",
            "               num_iteration=100, objective='multiclass', slient=False)\n"
          ]
        }
      ],
      "source": [
        "print(cv_results)    \n",
        "print(ltg_model)"
      ]
    },
    {
      "cell_type": "code",
      "execution_count": null,
      "metadata": {
        "colab": {
          "base_uri": "https://localhost:8080/"
        },
        "id": "kYZrmRQuSiV_",
        "outputId": "f98c91e6-a524-48ad-8c7a-8be6ab10da03"
      },
      "outputs": [
        {
          "name": "stdout",
          "output_type": "stream",
          "text": [
            "              precision    recall  f1-score   support\n",
            "\n",
            "           0       0.78      0.81      0.80      1000\n",
            "           1       0.99      0.91      0.95      1000\n",
            "           2       0.70      0.74      0.72      1000\n",
            "           3       0.78      0.88      0.83      1000\n",
            "           4       0.67      0.75      0.71      1000\n",
            "           5       0.98      0.88      0.93      1000\n",
            "           6       0.66      0.48      0.56      1000\n",
            "           7       0.87      0.92      0.89      1000\n",
            "           8       0.94      0.93      0.93      1000\n",
            "           9       0.88      0.94      0.91      1000\n",
            "\n",
            "    accuracy                           0.82     10000\n",
            "   macro avg       0.82      0.82      0.82     10000\n",
            "weighted avg       0.82      0.82      0.82     10000\n",
            "\n"
          ]
        }
      ],
      "source": [
        "expected_y  = test_labels\n",
        "predicted_y = ltg_model.predict(test_x)\n",
        "print(metrics.classification_report(expected_y, predicted_y))"
      ]
    },
    {
      "cell_type": "code",
      "execution_count": null,
      "metadata": {
        "id": "IngEHAjBL3MW"
      },
      "outputs": [],
      "source": [
        ""
      ]
    },
    {
      "cell_type": "markdown",
      "metadata": {
        "id": "w-20yUKeL3MW"
      },
      "source": [
        "# LDA"
      ]
    },
    {
      "cell_type": "code",
      "execution_count": null,
      "metadata": {
        "id": "d2xX0RUaL3MW"
      },
      "outputs": [],
      "source": [
        "from sklearn.discriminant_analysis import LinearDiscriminantAnalysis as LDA"
      ]
    },
    {
      "cell_type": "code",
      "execution_count": null,
      "metadata": {
        "scrolled": true,
        "id": "HekH4PQWL3MX",
        "outputId": "1768ff8a-6031-4bf7-dbc9-1be1c256667e"
      },
      "outputs": [
        {
          "data": {
            "text/plain": [
              "array([9, 2, 1, ..., 6, 1, 5], dtype=uint8)"
            ]
          },
          "execution_count": 37,
          "metadata": {},
          "output_type": "execute_result"
        }
      ],
      "source": [
        "lda = LDA(n_components=9)\n",
        "lda_model = lda.fit(train_x, train_labels)\n",
        "pred = lda_model.predict(test_x)\n",
        "pred"
      ]
    },
    {
      "cell_type": "code",
      "execution_count": null,
      "metadata": {
        "id": "LP95TqAuL3MX",
        "outputId": "8f7c0886-f6a5-4145-add6-9fea0cb353f2"
      },
      "outputs": [
        {
          "data": {
            "text/plain": [
              "0.8151"
            ]
          },
          "execution_count": 38,
          "metadata": {},
          "output_type": "execute_result"
        }
      ],
      "source": [
        "sum(test_labels == pred)/len(test_labels)"
      ]
    },
    {
      "cell_type": "code",
      "execution_count": null,
      "metadata": {
        "id": "EfnEXIreL3MX",
        "outputId": "0e3797d7-be60-4f65-b195-bf0df1a0acef"
      },
      "outputs": [
        {
          "name": "stdout",
          "output_type": "stream",
          "text": [
            "              precision    recall  f1-score   support\n",
            "\n",
            "           0       0.81      0.78      0.79      1000\n",
            "           1       1.00      0.93      0.96      1000\n",
            "           2       0.70      0.68      0.69      1000\n",
            "           3       0.80      0.85      0.82      1000\n",
            "           4       0.70      0.74      0.72      1000\n",
            "           5       0.89      0.89      0.89      1000\n",
            "           6       0.54      0.56      0.55      1000\n",
            "           7       0.88      0.89      0.89      1000\n",
            "           8       0.94      0.92      0.93      1000\n",
            "           9       0.91      0.91      0.91      1000\n",
            "\n",
            "    accuracy                           0.82     10000\n",
            "   macro avg       0.82      0.82      0.82     10000\n",
            "weighted avg       0.82      0.82      0.82     10000\n",
            "\n"
          ]
        }
      ],
      "source": [
        "expected_y  = test_labels\n",
        "predicted_y = lda_model.predict(test_x)\n",
        "print(metrics.classification_report(expected_y, predicted_y))"
      ]
    },
    {
      "cell_type": "code",
      "execution_count": null,
      "metadata": {
        "id": "2b5OSVGbL3MX"
      },
      "outputs": [],
      "source": [
        "# Multi-Classification - Support Vector Machine"
      ]
    },
    {
      "cell_type": "code",
      "execution_count": null,
      "metadata": {
        "id": "derG8cI3L3MY"
      },
      "outputs": [],
      "source": [
        "from sklearn import svm\n",
        "import sklearn.model_selection as model_selection\n",
        "from sklearn.metrics import accuracy_score\n",
        "from sklearn.metrics import f1_score"
      ]
    },
    {
      "cell_type": "code",
      "execution_count": null,
      "metadata": {
        "id": "dS36ZS8RL3MY",
        "outputId": "1a3f0cbb-40ad-4588-f0ba-df49c617e067",
        "colab": {
          "base_uri": "https://localhost:8080/"
        }
      },
      "outputs": [
        {
          "output_type": "stream",
          "name": "stdout",
          "text": [
            "Accuracy (Polynomial Kernel):  86.30\n",
            "F1 (Polynomial Kernel):  86.34\n"
          ]
        },
        {
          "output_type": "execute_result",
          "data": {
            "text/plain": [
              "array([[839,   0,  11,  27,   5,  23,  85,   0,  10,   0],\n",
              "       [ 10, 955,   1,  23,   2,   2,   7,   0,   0,   0],\n",
              "       [ 31,   0, 776,  11,  66,   8, 106,   0,   2,   0],\n",
              "       [ 29,   5,   6, 862,  26,  19,  46,   0,   7,   0],\n",
              "       [  3,   2,  98,  31, 758,   5,  97,   0,   6,   0],\n",
              "       [  0,   0,   0,   1,   0, 959,   0,  23,   1,  16],\n",
              "       [138,   1,  67,  20,  58,  20, 689,   0,   7,   0],\n",
              "       [  0,   0,   0,   0,   0,  67,   0, 913,   0,  20],\n",
              "       [ 10,   0,   6,   6,   3,  21,  10,   4, 940,   0],\n",
              "       [  2,   0,   0,   0,   0,  24,   0,  35,   0, 939]])"
            ]
          },
          "metadata": {},
          "execution_count": 11
        }
      ],
      "source": [
        "# Use Ploynomial kernel \n",
        "poly = svm.SVC(kernel='poly', degree=3, C=1).fit(train_x, train_labels)\n",
        "poly_pred = poly.predict(test_x)\n",
        "poly_accuracy = accuracy_score(test_labels, poly_pred)\n",
        "poly_f1 = f1_score(test_labels, poly_pred, average='weighted')\n",
        "print('Accuracy (Polynomial Kernel): ', \"%.2f\" % (poly_accuracy*100))\n",
        "print('F1 (Polynomial Kernel): ', \"%.2f\" % (poly_f1*100))\n",
        "\n",
        "from sklearn.metrics import confusion_matrix\n",
        "confusion_matrix(test_labels, poly_pred)\n"
      ]
    },
    {
      "cell_type": "code",
      "source": [
        "print(metrics.classification_report(test_labels, poly_pred))"
      ],
      "metadata": {
        "id": "DjSXiuOTpxoP",
        "colab": {
          "base_uri": "https://localhost:8080/"
        },
        "outputId": "0c702d63-07b1-4716-a8b1-a24324c013ab"
      },
      "execution_count": null,
      "outputs": [
        {
          "output_type": "stream",
          "name": "stdout",
          "text": [
            "              precision    recall  f1-score   support\n",
            "\n",
            "           0       0.79      0.84      0.81      1000\n",
            "           1       0.99      0.95      0.97      1000\n",
            "           2       0.80      0.78      0.79      1000\n",
            "           3       0.88      0.86      0.87      1000\n",
            "           4       0.83      0.76      0.79      1000\n",
            "           5       0.84      0.96      0.89      1000\n",
            "           6       0.66      0.69      0.68      1000\n",
            "           7       0.94      0.91      0.92      1000\n",
            "           8       0.97      0.94      0.95      1000\n",
            "           9       0.96      0.94      0.95      1000\n",
            "\n",
            "    accuracy                           0.86     10000\n",
            "   macro avg       0.87      0.86      0.86     10000\n",
            "weighted avg       0.87      0.86      0.86     10000\n",
            "\n"
          ]
        }
      ]
    },
    {
      "cell_type": "code",
      "source": [
        "## Logistic Regression"
      ],
      "metadata": {
        "id": "02arqMyXpxqj"
      },
      "execution_count": null,
      "outputs": []
    },
    {
      "cell_type": "code",
      "execution_count": null,
      "metadata": {
        "id": "Rut2hyJQL3MY",
        "colab": {
          "base_uri": "https://localhost:8080/"
        },
        "outputId": "a673196b-8487-426d-cf33-a61b3543e6ee"
      },
      "outputs": [
        {
          "output_type": "execute_result",
          "data": {
            "text/plain": [
              "LogisticRegression(max_iter=200, solver='liblinear')"
            ]
          },
          "metadata": {},
          "execution_count": 16
        }
      ],
      "source": [
        "from sklearn.linear_model import LogisticRegression\n",
        "logistic = LogisticRegression(max_iter=200, solver='liblinear')\n",
        "logistic.fit(train_x, train_labels)"
      ]
    },
    {
      "cell_type": "code",
      "execution_count": null,
      "metadata": {
        "id": "12dRA-KjL3MY",
        "colab": {
          "base_uri": "https://localhost:8080/"
        },
        "outputId": "8c3f99fc-02b4-40c0-a39d-49a8e3fd2817"
      },
      "outputs": [
        {
          "output_type": "stream",
          "name": "stdout",
          "text": [
            "Train Accuracy score: 0.8732166666666666\n",
            "Test Accuracy score: 0.8412\n",
            "              precision    recall  f1-score   support\n",
            "\n",
            "           0       0.79      0.82      0.80      1000\n",
            "           1       0.97      0.95      0.96      1000\n",
            "           2       0.72      0.73      0.73      1000\n",
            "           3       0.82      0.87      0.84      1000\n",
            "           4       0.72      0.76      0.74      1000\n",
            "           5       0.94      0.92      0.93      1000\n",
            "           6       0.64      0.54      0.59      1000\n",
            "           7       0.90      0.94      0.92      1000\n",
            "           8       0.93      0.95      0.94      1000\n",
            "           9       0.95      0.94      0.95      1000\n",
            "\n",
            "    accuracy                           0.84     10000\n",
            "   macro avg       0.84      0.84      0.84     10000\n",
            "weighted avg       0.84      0.84      0.84     10000\n",
            "\n"
          ]
        }
      ],
      "source": [
        "y_train_lr = logistic.predict(train_x)\n",
        "y_pred_lr = logistic.predict(test_x)\n",
        "logistic_train = metrics.accuracy_score(train_labels,y_train_lr )\n",
        "logistic_accuracy = metrics.accuracy_score(test_labels, y_pred_lr)\n",
        "\n",
        "print(\"Train Accuracy score: {}\".format(logistic_train))\n",
        "print(\"Test Accuracy score: {}\".format(logistic_accuracy))\n",
        "print(metrics.classification_report(test_labels, y_pred_lr))"
      ]
    },
    {
      "cell_type": "code",
      "source": [
        ""
      ],
      "metadata": {
        "id": "41fApdYtfddw"
      },
      "execution_count": null,
      "outputs": []
    }
  ],
  "metadata": {
    "colab": {
      "collapsed_sections": [],
      "name": "Add: K-means.ipynb",
      "provenance": [],
      "include_colab_link": true
    },
    "kernelspec": {
      "display_name": "Python 3 (ipykernel)",
      "language": "python",
      "name": "python3"
    },
    "language_info": {
      "codemirror_mode": {
        "name": "ipython",
        "version": 3
      },
      "file_extension": ".py",
      "mimetype": "text/x-python",
      "name": "python",
      "nbconvert_exporter": "python",
      "pygments_lexer": "ipython3",
      "version": "3.9.7"
    }
  },
  "nbformat": 4,
  "nbformat_minor": 0
}