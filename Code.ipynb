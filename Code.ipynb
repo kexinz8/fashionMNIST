{
  "nbformat": 4,
  "nbformat_minor": 0,
  "metadata": {
    "colab": {
      "name": "Code.ipynb",
      "provenance": [],
      "authorship_tag": "ABX9TyOcOGeWYtvrV4H8EliH0ZAV",
      "include_colab_link": true
    },
    "kernelspec": {
      "name": "python3",
      "display_name": "Python 3"
    },
    "language_info": {
      "name": "python"
    }
  },
  "cells": [
    {
      "cell_type": "markdown",
      "metadata": {
        "id": "view-in-github",
        "colab_type": "text"
      },
      "source": [
        "<a href=\"https://colab.research.google.com/github/kexinz8/fashionMNIST/blob/main/Code.ipynb\" target=\"_parent\"><img src=\"https://colab.research.google.com/assets/colab-badge.svg\" alt=\"Open In Colab\"/></a>"
      ]
    },
    {
      "cell_type": "code",
      "execution_count": null,
      "metadata": {
        "id": "_bj9OV4dw514"
      },
      "outputs": [],
      "source": [
        "import pandas as pd\n",
        "import numpy as np\n",
        "\n",
        "from sklearn.datasets import make_classification\n",
        "from sklearn.model_selection import cross_val_score\n",
        "\n",
        "from sklearn import metrics"
      ]
    },
    {
      "cell_type": "markdown",
      "source": [
        "# Import data"
      ],
      "metadata": {
        "id": "9VKICQLCxItd"
      }
    },
    {
      "cell_type": "code",
      "source": [
        "# import data\n",
        "import tensorflow as tf\n",
        "from tensorflow.keras.datasets import fashion_mnist\n",
        "(train_data, train_labels), (test_data, test_labels) = fashion_mnist.load_data()"
      ],
      "metadata": {
        "id": "7Jm2OBPlw72n"
      },
      "execution_count": null,
      "outputs": []
    },
    {
      "cell_type": "code",
      "source": [
        "train_x = train_data.reshape(train_data.shape[0], -1).astype('float32')\n",
        "test_x = test_data.reshape(test_data.shape[0], -1).astype('float32')"
      ],
      "metadata": {
        "id": "Flmo5VhTxEhg"
      },
      "execution_count": null,
      "outputs": []
    },
    {
      "cell_type": "markdown",
      "source": [
        "# Multiclassification\n",
        "## LightGBM"
      ],
      "metadata": {
        "id": "wW9ef65x0YCc"
      }
    },
    {
      "cell_type": "code",
      "source": [
        "from lightgbm import LGBMClassifier"
      ],
      "metadata": {
        "id": "gq94vfEd0Zmd"
      },
      "execution_count": null,
      "outputs": []
    },
    {
      "cell_type": "code",
      "source": [
        "# dont run this part, i'm still tuning\n",
        "err_list = []\n",
        "for i in np.arange(0.0, 1.0, 0.1):\n",
        "    model = LGBMClassifier(objective='multiclass',path_smooth = i)\n",
        "    model.fit(train_x, train_labels, categorical_feature=[0,3])\n",
        "    predictions = model.predict(test_x)\n",
        "    error = sum(predictions!=test_x)/len(test_labels)\n",
        "    err_list.append(error)\n",
        "err_list"
      ],
      "metadata": {
        "id": "TLdQzGiD0cQd"
      },
      "execution_count": null,
      "outputs": []
    },
    {
      "cell_type": "code",
      "source": [
        "lgb_model = LGBMClassifier(objective='multiclass',path_smooth = 0.5)\n",
        "lgb_model.fit(train_x,train_labels,categorical_feature=[0,3])"
      ],
      "metadata": {
        "id": "w9tg2qXq0coc"
      },
      "execution_count": null,
      "outputs": []
    },
    {
      "cell_type": "code",
      "source": [
        "expected_y  = test_labels\n",
        "predicted_y = lgb_model.predict(test_x)\n",
        "lightGBM_pred_y = predicted_y\n",
        "print(metrics.classification_report(expected_y, predicted_y))"
      ],
      "metadata": {
        "id": "jygFs2-L0gnn"
      },
      "execution_count": null,
      "outputs": []
    },
    {
      "cell_type": "code",
      "source": [
        "# plot\n",
        "from sklearn.metrics import ConfusionMatrixDisplay\n",
        "ConfusionMatrixDisplay.from_predictions(test_labels, lda_pred_y, cmap='Blues')"
      ],
      "metadata": {
        "id": "TlRRL2iLgEDw"
      },
      "execution_count": null,
      "outputs": []
    },
    {
      "cell_type": "code",
      "source": [
        "import matplotlib.pyplot as plt\n",
        "import numpy as np"
      ],
      "metadata": {
        "id": "svRf8g030h31"
      },
      "execution_count": null,
      "outputs": []
    },
    {
      "cell_type": "code",
      "source": [
        "tune = np.arange(0.0, 1.0, 0.1)\n",
        "error = np.array(err_list)\n",
        "\n",
        "plt.style.use(\"fivethirtyeight\")\n",
        "plt.plot(tune, error)\n",
        "\n",
        "plt.xlabel(\"Misclassification Error Rate\")\n",
        "plt.ylabel(\"Path Smooth\")\n",
        "\n",
        "plt.show()"
      ],
      "metadata": {
        "id": "973HOaf20i_5"
      },
      "execution_count": null,
      "outputs": []
    },
    {
      "cell_type": "markdown",
      "source": [
        "## LDA"
      ],
      "metadata": {
        "id": "gNxytkMX09IC"
      }
    },
    {
      "cell_type": "code",
      "source": [
        "from sklearn.discriminant_analysis import LinearDiscriminantAnalysis as LDA"
      ],
      "metadata": {
        "id": "GLCqQtfw0-Vb"
      },
      "execution_count": null,
      "outputs": []
    },
    {
      "cell_type": "code",
      "source": [
        "lda = LDA(n_components=9)"
      ],
      "metadata": {
        "id": "oOC9N40m1GHi"
      },
      "execution_count": null,
      "outputs": []
    },
    {
      "cell_type": "code",
      "source": [
        "expected_y  = test_labels\n",
        "lda_model = lda.fit(train_x, train_labels)\n",
        "predicted_y = lda_model.predict(test_x)\n",
        "lda_pred_y = predicted_y\n",
        "print(metrics.classification_report(expected_y, predicted_y))"
      ],
      "metadata": {
        "id": "GgTraCi51Hnp"
      },
      "execution_count": null,
      "outputs": []
    },
    {
      "cell_type": "code",
      "source": [
        "report = metrics.classification_report(expected_y, predicted_y, output_dict=True)\n",
        "pd.DataFrame(report).transpose()"
      ],
      "metadata": {
        "id": "xa9GPp4h1KUn"
      },
      "execution_count": null,
      "outputs": []
    },
    {
      "cell_type": "code",
      "source": [
        "# plot\n",
        "from sklearn.metrics import ConfusionMatrixDisplay\n",
        "ConfusionMatrixDisplay.from_predictions(test_labels, lda_pred_y, cmap='RdPu')"
      ],
      "metadata": {
        "id": "E1QW9FTSfTN7"
      },
      "execution_count": null,
      "outputs": []
    },
    {
      "cell_type": "markdown",
      "source": [
        "## SVM"
      ],
      "metadata": {
        "id": "011rCFeR1LWc"
      }
    },
    {
      "cell_type": "code",
      "source": [
        "from sklearn import svm\n",
        "import sklearn.model_selection as model_selection\n",
        "from sklearn.metrics import accuracy_score\n",
        "from sklearn.metrics import f1_score"
      ],
      "metadata": {
        "id": "nFfWWElO1MMx"
      },
      "execution_count": null,
      "outputs": []
    },
    {
      "cell_type": "code",
      "source": [
        "# Use Ploynomial kernel \n",
        "svmpoly = svm.SVC(kernel='poly', degree=3, C=1).fit(train_x, train_labels)"
      ],
      "metadata": {
        "id": "CKs66uWX1NgY"
      },
      "execution_count": null,
      "outputs": []
    },
    {
      "cell_type": "code",
      "source": [
        "expected_y  = test_labels\n",
        "predicted_y = svmpoly.predict(test_x)\n",
        "SVM_pred_y = predicted_y\n",
        "print(metrics.classification_report(expected_y, predicted_y))"
      ],
      "metadata": {
        "id": "pusiEh0J1PEf"
      },
      "execution_count": null,
      "outputs": []
    },
    {
      "cell_type": "code",
      "source": [
        "# evaluation table\n",
        "report = metrics.classification_report(expected_y, predicted_y, output_dict=True)\n",
        "pd.DataFrame(report).transpose()"
      ],
      "metadata": {
        "id": "SPOp02_A1QH2"
      },
      "execution_count": null,
      "outputs": []
    },
    {
      "cell_type": "code",
      "source": [
        "# plot\n",
        "from sklearn.metrics import ConfusionMatrixDisplay\n",
        "ConfusionMatrixDisplay.from_predictions(test_labels, lda_pred_y, cmap='Greens')"
      ],
      "metadata": {
        "id": "kKoJWML3f1Tb"
      },
      "execution_count": null,
      "outputs": []
    },
    {
      "cell_type": "markdown",
      "source": [
        "Combine the three models results"
      ],
      "metadata": {
        "id": "-77mL7UF1USO"
      }
    },
    {
      "cell_type": "code",
      "source": [
        "# to get the precision dictionary\n",
        "out = {}\n",
        "for i in range(0,10):\n",
        "    out.update({i:round(report[str(i)]['precision'],2)})"
      ],
      "metadata": {
        "id": "rEFQ9pfQ1Rq6"
      },
      "execution_count": null,
      "outputs": []
    },
    {
      "cell_type": "code",
      "source": [
        "# create df of y_pred of test set for each model\n",
        "y_pred_test = pd.concat([pd.DataFrame(lightGBM_pred_y, columns = ['LightGBM']),\n",
        "           pd.DataFrame(lda_pred_y, columns = ['LDA']), \n",
        "           pd.DataFrame(SVM_pred_y, columns = ['SVM'])],axis=1)"
      ],
      "metadata": {
        "id": "TsLP3awK1lS9"
      },
      "execution_count": null,
      "outputs": []
    },
    {
      "cell_type": "code",
      "source": [
        "y_pred_test.to_csv('y_pred_test.csv')"
      ],
      "metadata": {
        "id": "-xXGG0j21l20"
      },
      "execution_count": null,
      "outputs": []
    },
    {
      "cell_type": "markdown",
      "source": [
        "# Ensemble\n"
      ],
      "metadata": {
        "id": "r1RZ2TEnxQ1i"
      }
    },
    {
      "cell_type": "code",
      "source": [
        "import lightgbm as ltg\n",
        "from sklearn.linear_model import LogisticRegression\n",
        "from sklearn.discriminant_analysis import LinearDiscriminantAnalysis as LDA\n",
        "from sklearn import svm\n",
        "from sklearn.ensemble import VotingClassifier\n",
        "from sklearn.metrics import accuracy_score\n",
        "from sklearn.ensemble import StackingClassifier"
      ],
      "metadata": {
        "id": "1KZHK-tMxTIY"
      },
      "execution_count": null,
      "outputs": []
    },
    {
      "cell_type": "code",
      "source": [
        "estimator = []\n",
        "estimator.append(('LDA', LDA(n_components=9)))\n",
        "estimator.append(('SVC', svm.SVC(kernel='poly', degree=3, C=1)))\n",
        "estimator.append(('LGBM', ltg.LGBMClassifier(objective='multiclass',path_smooth = 0.2)))"
      ],
      "metadata": {
        "id": "986XANvgyRYG"
      },
      "execution_count": null,
      "outputs": []
    },
    {
      "cell_type": "markdown",
      "source": [
        "## Voting"
      ],
      "metadata": {
        "id": "9ONhm-MAyWJE"
      }
    },
    {
      "cell_type": "code",
      "source": [
        "vot_hard=VotingClassifier(estimators = estimator, voting ='hard')\n",
        "vot_hard.fit(train_x, train_labels)"
      ],
      "metadata": {
        "id": "SzCCN00uyXpJ"
      },
      "execution_count": null,
      "outputs": []
    },
    {
      "cell_type": "code",
      "source": [
        "# predict with voting-ensembled model and check accuracy on testing set\n",
        "ypred=vot_hard.predict(test_x)\n",
        "accuracy_score(test_labels, ypred)"
      ],
      "metadata": {
        "id": "xTQuCk9zyiZo"
      },
      "execution_count": null,
      "outputs": []
    },
    {
      "cell_type": "code",
      "source": [
        "#plot# plot\n",
        "from sklearn.metrics import ConfusionMatrixDisplay\n",
        "ConfusionMatrixDisplay.from_predictions(test_labels, lda_pred_y, cmap='magma')"
      ],
      "metadata": {
        "id": "yaCT0IhRgOkI"
      },
      "execution_count": null,
      "outputs": []
    },
    {
      "cell_type": "markdown",
      "source": [
        "## Voting++"
      ],
      "metadata": {
        "id": "g7MfR_JO1xak"
      }
    },
    {
      "cell_type": "code",
      "source": [
        "# Construct the reference table\n",
        "ref_LTG = {0: 0.84, 1: 1.0, 2: 0.84, 3: 0.91, 4: 0.85, 5: 0.99, 6: 0.75, 7: 0.95, 8: 0.98, 9: 0.96}\n",
        "ref_LDA = {0: 0.80, 1: 1.0, 2: 0.76, 3: 0.82, 4: 0.75, 5: 0.86, 6: 0.59, 7: 0.87, 8: 0.94, 9: 0.90}\n",
        "ref_SVM = {0: 0.80, 1: 0.99, 2: 0.83, 3: 0.90, 4: 0.85, 5: 0.82, 6: 0.71, 7: 0.92, 8: 0.98,9: 0.96}\n",
        "ref_df = [ref_LTG, ref_LDA, ref_SVM]"
      ],
      "metadata": {
        "id": "BsTrQp99107N"
      },
      "execution_count": 34,
      "outputs": []
    },
    {
      "cell_type": "code",
      "source": [
        "ypred_org = y_pred_test\n",
        "ypred = ypred_org.copy()"
      ],
      "metadata": {
        "id": "AMMd8-6_1_A2"
      },
      "execution_count": 38,
      "outputs": []
    },
    {
      "cell_type": "code",
      "source": [
        "# represent the y_test_pred with according precision\n",
        "for i in range(ypred.shape[1]):\n",
        "   ypred.iloc[:,i] = ypred.iloc[:,i].replace(ref_df[i])\n",
        "\n",
        "ypred.columns = [1,2,3]\n",
        "ypred"
      ],
      "metadata": {
        "id": "-5rdbuzs1_c6",
        "colab": {
          "base_uri": "https://localhost:8080/",
          "height": 423
        },
        "outputId": "e23c021b-c520-4a61-a98a-0c803a048239"
      },
      "execution_count": 39,
      "outputs": [
        {
          "output_type": "execute_result",
          "data": {
            "text/plain": [
              "         1     2     3\n",
              "0     0.97  0.92  0.96\n",
              "1     0.80  0.71  0.80\n",
              "2     1.00  1.00  0.99\n",
              "3     1.00  1.00  0.99\n",
              "4     0.72  0.56  0.66\n",
              "...    ...   ...   ...\n",
              "9995  0.97  0.92  0.96\n",
              "9996  1.00  1.00  0.99\n",
              "9997  0.98  0.56  0.97\n",
              "9998  1.00  1.00  0.99\n",
              "9999  0.99  0.89  0.84\n",
              "\n",
              "[10000 rows x 3 columns]"
            ],
            "text/html": [
              "\n",
              "  <div id=\"df-5ccf4323-d5f6-43b1-a824-11a4c4631760\">\n",
              "    <div class=\"colab-df-container\">\n",
              "      <div>\n",
              "<style scoped>\n",
              "    .dataframe tbody tr th:only-of-type {\n",
              "        vertical-align: middle;\n",
              "    }\n",
              "\n",
              "    .dataframe tbody tr th {\n",
              "        vertical-align: top;\n",
              "    }\n",
              "\n",
              "    .dataframe thead th {\n",
              "        text-align: right;\n",
              "    }\n",
              "</style>\n",
              "<table border=\"1\" class=\"dataframe\">\n",
              "  <thead>\n",
              "    <tr style=\"text-align: right;\">\n",
              "      <th></th>\n",
              "      <th>1</th>\n",
              "      <th>2</th>\n",
              "      <th>3</th>\n",
              "    </tr>\n",
              "  </thead>\n",
              "  <tbody>\n",
              "    <tr>\n",
              "      <th>0</th>\n",
              "      <td>0.97</td>\n",
              "      <td>0.92</td>\n",
              "      <td>0.96</td>\n",
              "    </tr>\n",
              "    <tr>\n",
              "      <th>1</th>\n",
              "      <td>0.80</td>\n",
              "      <td>0.71</td>\n",
              "      <td>0.80</td>\n",
              "    </tr>\n",
              "    <tr>\n",
              "      <th>2</th>\n",
              "      <td>1.00</td>\n",
              "      <td>1.00</td>\n",
              "      <td>0.99</td>\n",
              "    </tr>\n",
              "    <tr>\n",
              "      <th>3</th>\n",
              "      <td>1.00</td>\n",
              "      <td>1.00</td>\n",
              "      <td>0.99</td>\n",
              "    </tr>\n",
              "    <tr>\n",
              "      <th>4</th>\n",
              "      <td>0.72</td>\n",
              "      <td>0.56</td>\n",
              "      <td>0.66</td>\n",
              "    </tr>\n",
              "    <tr>\n",
              "      <th>...</th>\n",
              "      <td>...</td>\n",
              "      <td>...</td>\n",
              "      <td>...</td>\n",
              "    </tr>\n",
              "    <tr>\n",
              "      <th>9995</th>\n",
              "      <td>0.97</td>\n",
              "      <td>0.92</td>\n",
              "      <td>0.96</td>\n",
              "    </tr>\n",
              "    <tr>\n",
              "      <th>9996</th>\n",
              "      <td>1.00</td>\n",
              "      <td>1.00</td>\n",
              "      <td>0.99</td>\n",
              "    </tr>\n",
              "    <tr>\n",
              "      <th>9997</th>\n",
              "      <td>0.98</td>\n",
              "      <td>0.56</td>\n",
              "      <td>0.97</td>\n",
              "    </tr>\n",
              "    <tr>\n",
              "      <th>9998</th>\n",
              "      <td>1.00</td>\n",
              "      <td>1.00</td>\n",
              "      <td>0.99</td>\n",
              "    </tr>\n",
              "    <tr>\n",
              "      <th>9999</th>\n",
              "      <td>0.99</td>\n",
              "      <td>0.89</td>\n",
              "      <td>0.84</td>\n",
              "    </tr>\n",
              "  </tbody>\n",
              "</table>\n",
              "<p>10000 rows × 3 columns</p>\n",
              "</div>\n",
              "      <button class=\"colab-df-convert\" onclick=\"convertToInteractive('df-5ccf4323-d5f6-43b1-a824-11a4c4631760')\"\n",
              "              title=\"Convert this dataframe to an interactive table.\"\n",
              "              style=\"display:none;\">\n",
              "        \n",
              "  <svg xmlns=\"http://www.w3.org/2000/svg\" height=\"24px\"viewBox=\"0 0 24 24\"\n",
              "       width=\"24px\">\n",
              "    <path d=\"M0 0h24v24H0V0z\" fill=\"none\"/>\n",
              "    <path d=\"M18.56 5.44l.94 2.06.94-2.06 2.06-.94-2.06-.94-.94-2.06-.94 2.06-2.06.94zm-11 1L8.5 8.5l.94-2.06 2.06-.94-2.06-.94L8.5 2.5l-.94 2.06-2.06.94zm10 10l.94 2.06.94-2.06 2.06-.94-2.06-.94-.94-2.06-.94 2.06-2.06.94z\"/><path d=\"M17.41 7.96l-1.37-1.37c-.4-.4-.92-.59-1.43-.59-.52 0-1.04.2-1.43.59L10.3 9.45l-7.72 7.72c-.78.78-.78 2.05 0 2.83L4 21.41c.39.39.9.59 1.41.59.51 0 1.02-.2 1.41-.59l7.78-7.78 2.81-2.81c.8-.78.8-2.07 0-2.86zM5.41 20L4 18.59l7.72-7.72 1.47 1.35L5.41 20z\"/>\n",
              "  </svg>\n",
              "      </button>\n",
              "      \n",
              "  <style>\n",
              "    .colab-df-container {\n",
              "      display:flex;\n",
              "      flex-wrap:wrap;\n",
              "      gap: 12px;\n",
              "    }\n",
              "\n",
              "    .colab-df-convert {\n",
              "      background-color: #E8F0FE;\n",
              "      border: none;\n",
              "      border-radius: 50%;\n",
              "      cursor: pointer;\n",
              "      display: none;\n",
              "      fill: #1967D2;\n",
              "      height: 32px;\n",
              "      padding: 0 0 0 0;\n",
              "      width: 32px;\n",
              "    }\n",
              "\n",
              "    .colab-df-convert:hover {\n",
              "      background-color: #E2EBFA;\n",
              "      box-shadow: 0px 1px 2px rgba(60, 64, 67, 0.3), 0px 1px 3px 1px rgba(60, 64, 67, 0.15);\n",
              "      fill: #174EA6;\n",
              "    }\n",
              "\n",
              "    [theme=dark] .colab-df-convert {\n",
              "      background-color: #3B4455;\n",
              "      fill: #D2E3FC;\n",
              "    }\n",
              "\n",
              "    [theme=dark] .colab-df-convert:hover {\n",
              "      background-color: #434B5C;\n",
              "      box-shadow: 0px 1px 3px 1px rgba(0, 0, 0, 0.15);\n",
              "      filter: drop-shadow(0px 1px 2px rgba(0, 0, 0, 0.3));\n",
              "      fill: #FFFFFF;\n",
              "    }\n",
              "  </style>\n",
              "\n",
              "      <script>\n",
              "        const buttonEl =\n",
              "          document.querySelector('#df-5ccf4323-d5f6-43b1-a824-11a4c4631760 button.colab-df-convert');\n",
              "        buttonEl.style.display =\n",
              "          google.colab.kernel.accessAllowed ? 'block' : 'none';\n",
              "\n",
              "        async function convertToInteractive(key) {\n",
              "          const element = document.querySelector('#df-5ccf4323-d5f6-43b1-a824-11a4c4631760');\n",
              "          const dataTable =\n",
              "            await google.colab.kernel.invokeFunction('convertToInteractive',\n",
              "                                                     [key], {});\n",
              "          if (!dataTable) return;\n",
              "\n",
              "          const docLinkHtml = 'Like what you see? Visit the ' +\n",
              "            '<a target=\"_blank\" href=https://colab.research.google.com/notebooks/data_table.ipynb>data table notebook</a>'\n",
              "            + ' to learn more about interactive tables.';\n",
              "          element.innerHTML = '';\n",
              "          dataTable['output_type'] = 'display_data';\n",
              "          await google.colab.output.renderOutput(dataTable, element);\n",
              "          const docLink = document.createElement('div');\n",
              "          docLink.innerHTML = docLinkHtml;\n",
              "          element.appendChild(docLink);\n",
              "        }\n",
              "      </script>\n",
              "    </div>\n",
              "  </div>\n",
              "  "
            ]
          },
          "metadata": {},
          "execution_count": 39
        }
      ]
    },
    {
      "cell_type": "code",
      "source": [
        "# For each sample, take the result from model with highest precision \n",
        "n=ypred.idxmax(axis='columns')\n",
        "result=[]\n",
        "for j in range(len(n)):\n",
        "    m=n[j]-1\n",
        "    result.append(ypred_org.iloc[j,m])"
      ],
      "metadata": {
        "id": "bkdHPWI92BhG"
      },
      "execution_count": 40,
      "outputs": []
    },
    {
      "cell_type": "code",
      "source": [
        "# Calculate the precision for udf model\n",
        "udf_report=metrics.classification_report(test_labels, result, output_dict=True)\n",
        "pd.DataFrame(udf_report).transpose()"
      ],
      "metadata": {
        "id": "U-mpxcUU2Cvg",
        "colab": {
          "base_uri": "https://localhost:8080/",
          "height": 457
        },
        "outputId": "07ce247e-3112-4d59-cefb-1b4fc7f6a2c9"
      },
      "execution_count": 41,
      "outputs": [
        {
          "output_type": "execute_result",
          "data": {
            "text/plain": [
              "              precision  recall  f1-score    support\n",
              "0              0.793750   0.889  0.838679   1000.000\n",
              "1              0.989837   0.974  0.981855   1000.000\n",
              "2              0.804260   0.793  0.798590   1000.000\n",
              "3              0.846435   0.926  0.884432   1000.000\n",
              "4              0.786580   0.844  0.814279   1000.000\n",
              "5              0.951866   0.969  0.960357   1000.000\n",
              "6              0.824615   0.536  0.649697   1000.000\n",
              "7              0.949704   0.963  0.956306   1000.000\n",
              "8              0.930806   0.982  0.955718   1000.000\n",
              "9              0.958250   0.964  0.961117   1000.000\n",
              "accuracy       0.884000   0.884  0.884000      0.884\n",
              "macro avg      0.883610   0.884  0.880103  10000.000\n",
              "weighted avg   0.883610   0.884  0.880103  10000.000"
            ],
            "text/html": [
              "\n",
              "  <div id=\"df-05b4e9ce-8964-490b-892a-1b9e334a0ec1\">\n",
              "    <div class=\"colab-df-container\">\n",
              "      <div>\n",
              "<style scoped>\n",
              "    .dataframe tbody tr th:only-of-type {\n",
              "        vertical-align: middle;\n",
              "    }\n",
              "\n",
              "    .dataframe tbody tr th {\n",
              "        vertical-align: top;\n",
              "    }\n",
              "\n",
              "    .dataframe thead th {\n",
              "        text-align: right;\n",
              "    }\n",
              "</style>\n",
              "<table border=\"1\" class=\"dataframe\">\n",
              "  <thead>\n",
              "    <tr style=\"text-align: right;\">\n",
              "      <th></th>\n",
              "      <th>precision</th>\n",
              "      <th>recall</th>\n",
              "      <th>f1-score</th>\n",
              "      <th>support</th>\n",
              "    </tr>\n",
              "  </thead>\n",
              "  <tbody>\n",
              "    <tr>\n",
              "      <th>0</th>\n",
              "      <td>0.793750</td>\n",
              "      <td>0.889</td>\n",
              "      <td>0.838679</td>\n",
              "      <td>1000.000</td>\n",
              "    </tr>\n",
              "    <tr>\n",
              "      <th>1</th>\n",
              "      <td>0.989837</td>\n",
              "      <td>0.974</td>\n",
              "      <td>0.981855</td>\n",
              "      <td>1000.000</td>\n",
              "    </tr>\n",
              "    <tr>\n",
              "      <th>2</th>\n",
              "      <td>0.804260</td>\n",
              "      <td>0.793</td>\n",
              "      <td>0.798590</td>\n",
              "      <td>1000.000</td>\n",
              "    </tr>\n",
              "    <tr>\n",
              "      <th>3</th>\n",
              "      <td>0.846435</td>\n",
              "      <td>0.926</td>\n",
              "      <td>0.884432</td>\n",
              "      <td>1000.000</td>\n",
              "    </tr>\n",
              "    <tr>\n",
              "      <th>4</th>\n",
              "      <td>0.786580</td>\n",
              "      <td>0.844</td>\n",
              "      <td>0.814279</td>\n",
              "      <td>1000.000</td>\n",
              "    </tr>\n",
              "    <tr>\n",
              "      <th>5</th>\n",
              "      <td>0.951866</td>\n",
              "      <td>0.969</td>\n",
              "      <td>0.960357</td>\n",
              "      <td>1000.000</td>\n",
              "    </tr>\n",
              "    <tr>\n",
              "      <th>6</th>\n",
              "      <td>0.824615</td>\n",
              "      <td>0.536</td>\n",
              "      <td>0.649697</td>\n",
              "      <td>1000.000</td>\n",
              "    </tr>\n",
              "    <tr>\n",
              "      <th>7</th>\n",
              "      <td>0.949704</td>\n",
              "      <td>0.963</td>\n",
              "      <td>0.956306</td>\n",
              "      <td>1000.000</td>\n",
              "    </tr>\n",
              "    <tr>\n",
              "      <th>8</th>\n",
              "      <td>0.930806</td>\n",
              "      <td>0.982</td>\n",
              "      <td>0.955718</td>\n",
              "      <td>1000.000</td>\n",
              "    </tr>\n",
              "    <tr>\n",
              "      <th>9</th>\n",
              "      <td>0.958250</td>\n",
              "      <td>0.964</td>\n",
              "      <td>0.961117</td>\n",
              "      <td>1000.000</td>\n",
              "    </tr>\n",
              "    <tr>\n",
              "      <th>accuracy</th>\n",
              "      <td>0.884000</td>\n",
              "      <td>0.884</td>\n",
              "      <td>0.884000</td>\n",
              "      <td>0.884</td>\n",
              "    </tr>\n",
              "    <tr>\n",
              "      <th>macro avg</th>\n",
              "      <td>0.883610</td>\n",
              "      <td>0.884</td>\n",
              "      <td>0.880103</td>\n",
              "      <td>10000.000</td>\n",
              "    </tr>\n",
              "    <tr>\n",
              "      <th>weighted avg</th>\n",
              "      <td>0.883610</td>\n",
              "      <td>0.884</td>\n",
              "      <td>0.880103</td>\n",
              "      <td>10000.000</td>\n",
              "    </tr>\n",
              "  </tbody>\n",
              "</table>\n",
              "</div>\n",
              "      <button class=\"colab-df-convert\" onclick=\"convertToInteractive('df-05b4e9ce-8964-490b-892a-1b9e334a0ec1')\"\n",
              "              title=\"Convert this dataframe to an interactive table.\"\n",
              "              style=\"display:none;\">\n",
              "        \n",
              "  <svg xmlns=\"http://www.w3.org/2000/svg\" height=\"24px\"viewBox=\"0 0 24 24\"\n",
              "       width=\"24px\">\n",
              "    <path d=\"M0 0h24v24H0V0z\" fill=\"none\"/>\n",
              "    <path d=\"M18.56 5.44l.94 2.06.94-2.06 2.06-.94-2.06-.94-.94-2.06-.94 2.06-2.06.94zm-11 1L8.5 8.5l.94-2.06 2.06-.94-2.06-.94L8.5 2.5l-.94 2.06-2.06.94zm10 10l.94 2.06.94-2.06 2.06-.94-2.06-.94-.94-2.06-.94 2.06-2.06.94z\"/><path d=\"M17.41 7.96l-1.37-1.37c-.4-.4-.92-.59-1.43-.59-.52 0-1.04.2-1.43.59L10.3 9.45l-7.72 7.72c-.78.78-.78 2.05 0 2.83L4 21.41c.39.39.9.59 1.41.59.51 0 1.02-.2 1.41-.59l7.78-7.78 2.81-2.81c.8-.78.8-2.07 0-2.86zM5.41 20L4 18.59l7.72-7.72 1.47 1.35L5.41 20z\"/>\n",
              "  </svg>\n",
              "      </button>\n",
              "      \n",
              "  <style>\n",
              "    .colab-df-container {\n",
              "      display:flex;\n",
              "      flex-wrap:wrap;\n",
              "      gap: 12px;\n",
              "    }\n",
              "\n",
              "    .colab-df-convert {\n",
              "      background-color: #E8F0FE;\n",
              "      border: none;\n",
              "      border-radius: 50%;\n",
              "      cursor: pointer;\n",
              "      display: none;\n",
              "      fill: #1967D2;\n",
              "      height: 32px;\n",
              "      padding: 0 0 0 0;\n",
              "      width: 32px;\n",
              "    }\n",
              "\n",
              "    .colab-df-convert:hover {\n",
              "      background-color: #E2EBFA;\n",
              "      box-shadow: 0px 1px 2px rgba(60, 64, 67, 0.3), 0px 1px 3px 1px rgba(60, 64, 67, 0.15);\n",
              "      fill: #174EA6;\n",
              "    }\n",
              "\n",
              "    [theme=dark] .colab-df-convert {\n",
              "      background-color: #3B4455;\n",
              "      fill: #D2E3FC;\n",
              "    }\n",
              "\n",
              "    [theme=dark] .colab-df-convert:hover {\n",
              "      background-color: #434B5C;\n",
              "      box-shadow: 0px 1px 3px 1px rgba(0, 0, 0, 0.15);\n",
              "      filter: drop-shadow(0px 1px 2px rgba(0, 0, 0, 0.3));\n",
              "      fill: #FFFFFF;\n",
              "    }\n",
              "  </style>\n",
              "\n",
              "      <script>\n",
              "        const buttonEl =\n",
              "          document.querySelector('#df-05b4e9ce-8964-490b-892a-1b9e334a0ec1 button.colab-df-convert');\n",
              "        buttonEl.style.display =\n",
              "          google.colab.kernel.accessAllowed ? 'block' : 'none';\n",
              "\n",
              "        async function convertToInteractive(key) {\n",
              "          const element = document.querySelector('#df-05b4e9ce-8964-490b-892a-1b9e334a0ec1');\n",
              "          const dataTable =\n",
              "            await google.colab.kernel.invokeFunction('convertToInteractive',\n",
              "                                                     [key], {});\n",
              "          if (!dataTable) return;\n",
              "\n",
              "          const docLinkHtml = 'Like what you see? Visit the ' +\n",
              "            '<a target=\"_blank\" href=https://colab.research.google.com/notebooks/data_table.ipynb>data table notebook</a>'\n",
              "            + ' to learn more about interactive tables.';\n",
              "          element.innerHTML = '';\n",
              "          dataTable['output_type'] = 'display_data';\n",
              "          await google.colab.output.renderOutput(dataTable, element);\n",
              "          const docLink = document.createElement('div');\n",
              "          docLink.innerHTML = docLinkHtml;\n",
              "          element.appendChild(docLink);\n",
              "        }\n",
              "      </script>\n",
              "    </div>\n",
              "  </div>\n",
              "  "
            ]
          },
          "metadata": {},
          "execution_count": 41
        }
      ]
    },
    {
      "cell_type": "code",
      "source": [
        "# plot\n",
        "from sklearn.metrics import ConfusionMatrixDisplay\n",
        "ConfusionMatrixDisplay.from_predictions(test_labels, lda_pred_y, cmap='Greys')"
      ],
      "metadata": {
        "id": "K324hYQTgZrk"
      },
      "execution_count": null,
      "outputs": []
    },
    {
      "cell_type": "markdown",
      "source": [
        "# Stacking"
      ],
      "metadata": {
        "id": "b_5Asg_8zA1P"
      }
    },
    {
      "cell_type": "code",
      "source": [
        "clf = StackingClassifier(estimators=estimator, final_estimator=LogisticRegression(max_iter=200, solver='liblinear'))\n",
        "clf.fit(train_x, train_labels).score(test_x, test_labels)"
      ],
      "metadata": {
        "id": "C9EyMzckzC3V"
      },
      "execution_count": null,
      "outputs": []
    }
  ]
}