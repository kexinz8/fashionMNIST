{
  "cells": [
    {
      "cell_type": "markdown",
      "source": [
        ""
      ],
      "metadata": {
        "id": "9fkGaGV82S5z"
      }
    },
    {
      "cell_type": "code",
      "execution_count": null,
      "metadata": {
        "id": "2zd7_Zx5ZucN",
        "scrolled": true
      },
      "outputs": [],
      "source": [
        "import tensorflow as tf\n",
        "from tensorflow.keras.datasets import fashion_mnist\n",
        "from matplotlib import pyplot as plt"
      ]
    },
    {
      "cell_type": "code",
      "execution_count": null,
      "metadata": {
        "id": "5lWShS0mZy4x",
        "outputId": "924012e3-afef-4fdf-d6c2-c830073172fb",
        "colab": {
          "base_uri": "https://localhost:8080/"
        }
      },
      "outputs": [
        {
          "output_type": "stream",
          "name": "stdout",
          "text": [
            "Downloading data from https://storage.googleapis.com/tensorflow/tf-keras-datasets/train-labels-idx1-ubyte.gz\n",
            "32768/29515 [=================================] - 0s 0us/step\n",
            "40960/29515 [=========================================] - 0s 0us/step\n",
            "Downloading data from https://storage.googleapis.com/tensorflow/tf-keras-datasets/train-images-idx3-ubyte.gz\n",
            "26427392/26421880 [==============================] - 0s 0us/step\n",
            "26435584/26421880 [==============================] - 0s 0us/step\n",
            "Downloading data from https://storage.googleapis.com/tensorflow/tf-keras-datasets/t10k-labels-idx1-ubyte.gz\n",
            "16384/5148 [===============================================================================================] - 0s 0us/step\n",
            "Downloading data from https://storage.googleapis.com/tensorflow/tf-keras-datasets/t10k-images-idx3-ubyte.gz\n",
            "4423680/4422102 [==============================] - 0s 0us/step\n",
            "4431872/4422102 [==============================] - 0s 0us/step\n"
          ]
        }
      ],
      "source": [
        "(train_data, train_labels), (test_data, test_labels) = fashion_mnist.load_data()"
      ]
    },
    {
      "cell_type": "markdown",
      "metadata": {
        "id": "scgNwN_4bR6m"
      },
      "source": [
        "#Data exploratory analysis"
      ]
    },
    {
      "cell_type": "code",
      "execution_count": null,
      "metadata": {
        "colab": {
          "base_uri": "https://localhost:8080/"
        },
        "id": "t8z57Q4fZ2wb",
        "outputId": "c4c50692-2591-4f6c-e9ad-6659418b27dc"
      },
      "outputs": [
        {
          "output_type": "stream",
          "name": "stdout",
          "text": [
            "(60000, 28, 28)\n",
            "(10000, 28, 28)\n"
          ]
        }
      ],
      "source": [
        "# check the shape of train and test datasets\n",
        "print(train_data.shape)\n",
        "print(test_data.shape)\n"
      ]
    },
    {
      "cell_type": "code",
      "execution_count": null,
      "metadata": {
        "colab": {
          "base_uri": "https://localhost:8080/"
        },
        "id": "SiIX67BWXHaW",
        "outputId": "8aeae9da-e043-4344-8ed5-85c7df090971"
      },
      "outputs": [
        {
          "output_type": "execute_result",
          "data": {
            "text/plain": [
              "(array([0, 1, 2, 3, 4, 5, 6, 7, 8, 9], dtype=uint8),\n",
              " array([6000, 6000, 6000, 6000, 6000, 6000, 6000, 6000, 6000, 6000]))"
            ]
          },
          "metadata": {},
          "execution_count": 7
        }
      ],
      "source": [
        "import numpy as np\n",
        "np.unique(train_labels, return_counts=True)"
      ]
    },
    {
      "cell_type": "markdown",
      "metadata": {
        "id": "e44WLkuBX9G7"
      },
      "source": [
        "There are 10 categories with 6000 each, in the training dataset."
      ]
    },
    {
      "cell_type": "markdown",
      "metadata": {
        "id": "FIEXphuhuUH6"
      },
      "source": [
        "####Data Preprocsseing"
      ]
    },
    {
      "cell_type": "markdown",
      "metadata": {
        "id": "cCV7agjaud8v"
      },
      "source": [
        "Most clustering algorithms take 1-D array as input, so do transformation on the original dataset(flatten)"
      ]
    },
    {
      "cell_type": "code",
      "execution_count": null,
      "metadata": {
        "colab": {
          "base_uri": "https://localhost:8080/"
        },
        "id": "HeWtj3N5ue92",
        "outputId": "1500d272-494e-42b4-abe9-4bd66ef717e3"
      },
      "outputs": [
        {
          "output_type": "stream",
          "name": "stdout",
          "text": [
            "(60000, 784)\n"
          ]
        }
      ],
      "source": [
        "# transform data into 1-D\n",
        "train_x = train_data.reshape(train_data.shape[0], -1).astype('float32')\n",
        "test_x = test_data.reshape(test_data.shape[0], -1).astype('float32')\n",
        "\n",
        "# standardization\n",
        "train_x = train_x/train_x.max()\n",
        "test_x = test_x/test_x.max()\n",
        "print(train_x.shape)"
      ]
    },
    {
      "cell_type": "markdown",
      "metadata": {
        "id": "BMi0LjSabRcb"
      },
      "source": [
        "####Visualization"
      ]
    },
    {
      "cell_type": "code",
      "execution_count": null,
      "metadata": {
        "id": "N9yX0woAy4G5"
      },
      "outputs": [],
      "source": [
        "# Name the lables\n",
        "labels = ['T-shirt/top', 'Trouser', 'Pullover', 'Dress', 'Coat', 'Sandal', 'Shirt', 'Sneaker', 'Bag', 'Ankle boot']\n"
      ]
    },
    {
      "cell_type": "code",
      "execution_count": null,
      "metadata": {
        "colab": {
          "base_uri": "https://localhost:8080/",
          "height": 122
        },
        "id": "JFSFAMu6WCa_",
        "outputId": "d457b213-8ab3-429a-a6ee-079751aa97f8"
      },
      "outputs": [
        {
          "data": {
            "image/png": "[encoded data removed]",
            "text/plain": [
              "<Figure size 864x576 with 7 Axes>"
            ]
          },
          "metadata": {},
          "output_type": "display_data"
        }
      ],
      "source": [
        "# Randomly choose some images\n",
        "import random\n",
        "random.seed(9)\n",
        "\n",
        "fig = plt.figure(figsize=[12, 8])\n",
        "cnt=1\n",
        "for i in random.sample(range(0, 60000), 7):\n",
        "  ax = fig.add_subplot(1, 8, cnt+1, xticks=[], yticks=[])\n",
        "  ax.imshow(train_data[i], cmap=\"twilight\")\n",
        "  ax.set_title(str(labels[train_labels[i]]))\n",
        "  cnt=cnt+1"
      ]
    },
    {
      "cell_type": "markdown",
      "metadata": {
        "id": "2qI-0Ow0cQ2J"
      },
      "source": [
        "##Unsupervised Learning\n",
        "#### Mini-Batch KMeans"
      ]
    },
    {
      "cell_type": "code",
      "execution_count": null,
      "metadata": {
        "id": "UwoUYGlGboXQ"
      },
      "outputs": [],
      "source": [
        "from sklearn.cluster import MiniBatchKMeans\n",
        "from sklearn.metrics.pairwise import pairwise_distances_argmin\n",
        "from sklearn.datasets import make_blobs"
      ]
    },
    {
      "cell_type": "code",
      "execution_count": null,
      "metadata": {
        "id": "v0Xp6p4HgX_H"
      },
      "outputs": [],
      "source": [
        "k_cluster=MiniBatchKMeans(batch_size=100, compute_labels=True, init='k-means++',\n",
        "                init_size=None, max_iter=50, max_no_improvement=10,\n",
        "                n_clusters=10, n_init=3, random_state=542,\n",
        "                reassignment_ratio=0.008, tol=0.0, verbose=0)"
      ]
    },
    {
      "cell_type": "code",
      "execution_count": null,
      "metadata": {
        "colab": {
          "base_uri": "https://localhost:8080/"
        },
        "id": "WW30HzEfxT4q",
        "outputId": "c494e2f1-4709-4a1c-ce77-6612fa7c52a5"
      },
      "outputs": [
        {
          "name": "stderr",
          "output_type": "stream",
          "text": [
            "C:\\Users\\user\\anaconda3\\lib\\site-packages\\sklearn\\cluster\\_kmeans.py:887: UserWarning: MiniBatchKMeans is known to have a memory leak on Windows with MKL, when there are less chunks than available threads. You can prevent it by setting batch_size >= 1024 or by setting the environment variable OMP_NUM_THREADS=1\n",
            "  warnings.warn(\n"
          ]
        },
        {
          "data": {
            "text/plain": [
              "MiniBatchKMeans(max_iter=50, n_clusters=10, random_state=542,\n",
              "                reassignment_ratio=0.008)"
            ]
          },
          "execution_count": 12,
          "metadata": {},
          "output_type": "execute_result"
        }
      ],
      "source": [
        "k_cluster.fit(train_x)"
      ]
    },
    {
      "cell_type": "code",
      "execution_count": null,
      "metadata": {
        "id": "K2bxBntTxZJ5"
      },
      "outputs": [],
      "source": [
        "label2cluster = {}\n",
        "\n",
        "for i in range(k_cluster.n_clusters):\n",
        "    labels = []\n",
        "    indeces = np.where(k_cluster.labels_ == i)\n",
        "    labels.append(train_labels[indeces])"
      ]
    },
    {
      "cell_type": "markdown",
      "metadata": {
        "id": "MBx3qOWItBP6"
      },
      "source": [
        "For each y_label, check which category they are mostly concentrated in"
      ]
    },
    {
      "cell_type": "code",
      "execution_count": null,
      "metadata": {
        "id": "q1nsWWs8xjuc"
      },
      "outputs": [],
      "source": [
        "def get_label2cluster_mapper(kmeans, ground_trues):\n",
        "\n",
        "    label2cluster = {}\n",
        "    for i in range(kmeans.n_clusters):\n",
        "        labels = []\n",
        "        indeces = np.where(kmeans.labels_ == i)\n",
        "        labels.append(ground_trues[indeces])\n",
        "        #labels = ground_trues[indeces]\n",
        "        #hist = (np.bincount(np.squeeze(labels)))\n",
        "        \n",
        "        if len(labels[0]) == 1:\n",
        "            hist = np.bincount(labels[0])\n",
        "        else:\n",
        "            hist = np.bincount(np.squeeze(labels))\n",
        "\n",
        "        if np.argmax(hist) in label2cluster:\n",
        "            label2cluster[np.argmax(hist)].append(i)\n",
        "        else:\n",
        "            label2cluster[np.argmax(hist)] = [i]\n",
        "\n",
        "    return label2cluster"
      ]
    },
    {
      "cell_type": "code",
      "execution_count": null,
      "metadata": {
        "colab": {
          "base_uri": "https://localhost:8080/"
        },
        "id": "3i983wvOxl2e",
        "outputId": "b778e0f6-fc43-4e44-c846-a1dec0e2fe70"
      },
      "outputs": [
        {
          "data": {
            "text/plain": [
              "{5: [0], 6: [1], 2: [2], 9: [3, 4], 0: [5], 1: [6], 8: [7], 4: [8], 7: [9]}"
            ]
          },
          "execution_count": 15,
          "metadata": {},
          "output_type": "execute_result"
        }
      ],
      "source": [
        "get_label2cluster_mapper(k_cluster, train_labels)"
      ]
    },
    {
      "cell_type": "markdown",
      "metadata": {
        "id": "dyM6EIFiH9X-"
      },
      "source": [
        "## LightGBM"
      ]
    },
    {
      "cell_type": "code",
      "execution_count": null,
      "metadata": {
        "id": "0UFUtdwzIBxV"
      },
      "outputs": [],
      "source": [
        "from sklearn import metrics\n",
        "import lightgbm as ltg\n",
        "from sklearn.model_selection import cross_val_score\n",
        "import time\n",
        "start_time = time.time()"
      ]
    },
    {
      "cell_type": "markdown",
      "metadata": {
        "id": "waRxtiOfOXb9"
      },
      "source": [
        "Light gradient bosting model fitting"
      ]
    },
    {
      "cell_type": "code",
      "execution_count": null,
      "metadata": {
        "id": "G6Yt6bfkNA61"
      },
      "outputs": [],
      "source": [
        "ltg_model =ltg.LGBMClassifier(boosting_type='gbdt', objective='multiclass', num_class=10, num_iteration=100, max_depth=4, learning_rate=0.01, n_estimators=100, n_thread=4, slient=False)"
      ]
    },
    {
      "cell_type": "code",
      "execution_count": null,
      "metadata": {
        "colab": {
          "base_uri": "https://localhost:8080/"
        },
        "id": "DovCJFYYPHYd",
        "outputId": "b25b3311-3fbf-496e-be2f-61342816c975"
      },
      "outputs": [
        {
          "name": "stderr",
          "output_type": "stream",
          "text": [
            "[Parallel(n_jobs=-1)]: Using backend LokyBackend with 4 concurrent workers.\n",
            "[Parallel(n_jobs=-1)]: Done   2 out of   2 | elapsed:  4.2min finished\n"
          ]
        }
      ],
      "source": [
        "cv_results = cross_val_score(ltg_model, train_x, train_labels, cv=2, scoring='accuracy', n_jobs=-1, verbose=1)"
      ]
    },
    {
      "cell_type": "code",
      "execution_count": null,
      "metadata": {
        "colab": {
          "base_uri": "https://localhost:8080/"
        },
        "id": "Y895OCR6P_iJ",
        "outputId": "f1a444c3-3d64-4a31-8b66-58f56e7a362f"
      },
      "outputs": [
        {
          "data": {
            "text/plain": [
              "LGBMClassifier(objective='multiclass')"
            ]
          },
          "execution_count": 42,
          "metadata": {},
          "output_type": "execute_result"
        }
      ],
      "source": [
        "ltg_model.fit(train_x, train_labels)"
      ]
    },
    {
      "cell_type": "code",
      "execution_count": null,
      "metadata": {
        "colab": {
          "base_uri": "https://localhost:8080/"
        },
        "id": "3OiJcqTcSQJd",
        "outputId": "30eccadb-e635-4da0-dd04-0222ae43ef69"
      },
      "outputs": [
        {
          "name": "stdout",
          "output_type": "stream",
          "text": [
            "[0.82833333 0.83206667]\n",
            "LGBMClassifier(learning_rate=0.01, max_depth=4, n_thread=4, num_class=10,\n",
            "               num_iteration=100, objective='multiclass', slient=False)\n"
          ]
        }
      ],
      "source": [
        "print(cv_results)    \n",
        "print(ltg_model)"
      ]
    },
    {
      "cell_type": "code",
      "execution_count": null,
      "metadata": {
        "colab": {
          "base_uri": "https://localhost:8080/"
        },
        "id": "kYZrmRQuSiV_",
        "outputId": "f98c91e6-a524-48ad-8c7a-8be6ab10da03"
      },
      "outputs": [
        {
          "name": "stdout",
          "output_type": "stream",
          "text": [
            "              precision    recall  f1-score   support\n",
            "\n",
            "           0       0.78      0.81      0.80      1000\n",
            "           1       0.99      0.91      0.95      1000\n",
            "           2       0.70      0.74      0.72      1000\n",
            "           3       0.78      0.88      0.83      1000\n",
            "           4       0.67      0.75      0.71      1000\n",
            "           5       0.98      0.88      0.93      1000\n",
            "           6       0.66      0.48      0.56      1000\n",
            "           7       0.87      0.92      0.89      1000\n",
            "           8       0.94      0.93      0.93      1000\n",
            "           9       0.88      0.94      0.91      1000\n",
            "\n",
            "    accuracy                           0.82     10000\n",
            "   macro avg       0.82      0.82      0.82     10000\n",
            "weighted avg       0.82      0.82      0.82     10000\n",
            "\n"
          ]
        }
      ],
      "source": [
        "expected_y  = test_labels\n",
        "predicted_y = ltg_model.predict(test_x)\n",
        "print(metrics.classification_report(expected_y, predicted_y))"
      ]
    },
    {
      "cell_type": "code",
      "execution_count": null,
      "metadata": {
        "id": "IngEHAjBL3MW"
      },
      "outputs": [],
      "source": [
        ""
      ]
    },
    {
      "cell_type": "markdown",
      "metadata": {
        "id": "w-20yUKeL3MW"
      },
      "source": [
        "# LDA"
      ]
    },
    {
      "cell_type": "code",
      "execution_count": null,
      "metadata": {
        "id": "d2xX0RUaL3MW"
      },
      "outputs": [],
      "source": [
        "from sklearn.discriminant_analysis import LinearDiscriminantAnalysis as LDA"
      ]
    },
    {
      "cell_type": "code",
      "execution_count": null,
      "metadata": {
        "scrolled": true,
        "id": "HekH4PQWL3MX",
        "outputId": "1768ff8a-6031-4bf7-dbc9-1be1c256667e"
      },
      "outputs": [
        {
          "data": {
            "text/plain": [
              "array([9, 2, 1, ..., 6, 1, 5], dtype=uint8)"
            ]
          },
          "execution_count": 37,
          "metadata": {},
          "output_type": "execute_result"
        }
      ],
      "source": [
        "lda = LDA(n_components=9)\n",
        "lda_model = lda.fit(train_x, train_labels)\n",
        "pred = lda_model.predict(test_x)\n",
        "pred"
      ]
    },
    {
      "cell_type": "code",
      "execution_count": null,
      "metadata": {
        "id": "LP95TqAuL3MX",
        "outputId": "8f7c0886-f6a5-4145-add6-9fea0cb353f2"
      },
      "outputs": [
        {
          "data": {
            "text/plain": [
              "0.8151"
            ]
          },
          "execution_count": 38,
          "metadata": {},
          "output_type": "execute_result"
        }
      ],
      "source": [
        "sum(test_labels == pred)/len(test_labels)"
      ]
    },
    {
      "cell_type": "code",
      "execution_count": null,
      "metadata": {
        "id": "EfnEXIreL3MX",
        "outputId": "0e3797d7-be60-4f65-b195-bf0df1a0acef"
      },
      "outputs": [
        {
          "name": "stdout",
          "output_type": "stream",
          "text": [
            "              precision    recall  f1-score   support\n",
            "\n",
            "           0       0.81      0.78      0.79      1000\n",
            "           1       1.00      0.93      0.96      1000\n",
            "           2       0.70      0.68      0.69      1000\n",
            "           3       0.80      0.85      0.82      1000\n",
            "           4       0.70      0.74      0.72      1000\n",
            "           5       0.89      0.89      0.89      1000\n",
            "           6       0.54      0.56      0.55      1000\n",
            "           7       0.88      0.89      0.89      1000\n",
            "           8       0.94      0.92      0.93      1000\n",
            "           9       0.91      0.91      0.91      1000\n",
            "\n",
            "    accuracy                           0.82     10000\n",
            "   macro avg       0.82      0.82      0.82     10000\n",
            "weighted avg       0.82      0.82      0.82     10000\n",
            "\n"
          ]
        }
      ],
      "source": [
        "expected_y  = test_labels\n",
        "predicted_y = lda_model.predict(test_x)\n",
        "print(metrics.classification_report(expected_y, predicted_y))"
      ]
    },
    {
      "cell_type": "code",
      "execution_count": null,
      "metadata": {
        "id": "2b5OSVGbL3MX"
      },
      "outputs": [],
      "source": [
        "# Multi-Classification - Support Vector Machine"
      ]
    },
    {
      "cell_type": "code",
      "execution_count": null,
      "metadata": {
        "id": "derG8cI3L3MY"
      },
      "outputs": [],
      "source": [
        "from sklearn import svm\n",
        "import sklearn.model_selection as model_selection\n",
        "from sklearn.metrics import accuracy_score\n",
        "from sklearn.metrics import f1_score"
      ]
    },
    {
      "cell_type": "code",
      "execution_count": null,
      "metadata": {
        "id": "dS36ZS8RL3MY",
        "outputId": "d28ecd38-95ea-40f2-e070-53e681b59729",
        "colab": {
          "base_uri": "https://localhost:8080/"
        }
      },
      "outputs": [
        {
          "output_type": "stream",
          "name": "stdout",
          "text": [
            "Accuracy (Polynomial Kernel):  86.30\n",
            "F1 (Polynomial Kernel):  86.34\n"
          ]
        },
        {
          "output_type": "execute_result",
          "data": {
            "text/plain": [
              "array([[839,   0,  11,  27,   5,  23,  85,   0,  10,   0],\n",
              "       [ 10, 955,   1,  23,   2,   2,   7,   0,   0,   0],\n",
              "       [ 31,   0, 776,  11,  66,   8, 106,   0,   2,   0],\n",
              "       [ 29,   5,   6, 862,  26,  19,  46,   0,   7,   0],\n",
              "       [  3,   2,  98,  31, 758,   5,  97,   0,   6,   0],\n",
              "       [  0,   0,   0,   1,   0, 959,   0,  23,   1,  16],\n",
              "       [138,   1,  67,  20,  58,  20, 689,   0,   7,   0],\n",
              "       [  0,   0,   0,   0,   0,  67,   0, 913,   0,  20],\n",
              "       [ 10,   0,   6,   6,   3,  21,  10,   4, 940,   0],\n",
              "       [  2,   0,   0,   0,   0,  24,   0,  35,   0, 939]])"
            ]
          },
          "metadata": {},
          "execution_count": 13
        }
      ],
      "source": [
        "# Use Ploynomial kernel \n",
        "poly = svm.SVC(kernel='poly', degree=3, C=1).fit(train_x, train_labels)\n",
        "poly_pred = poly.predict(test_x)\n",
        "poly_accuracy = accuracy_score(test_labels, poly_pred)\n",
        "poly_f1 = f1_score(test_labels, poly_pred, average='weighted')\n",
        "print('Accuracy (Polynomial Kernel): ', \"%.2f\" % (poly_accuracy*100))\n",
        "print('F1 (Polynomial Kernel): ', \"%.2f\" % (poly_f1*100))\n",
        "\n",
        "from sklearn.metrics import confusion_matrix\n",
        "confusion_matrix(test_labels, poly_pred)\n"
      ]
    },
    {
      "cell_type": "code",
      "source": [
        ""
      ],
      "metadata": {
        "id": "DjSXiuOTpxoP"
      },
      "execution_count": null,
      "outputs": []
    },
    {
      "cell_type": "code",
      "source": [
        ""
      ],
      "metadata": {
        "id": "02arqMyXpxqj"
      },
      "execution_count": null,
      "outputs": []
    },
    {
      "cell_type": "code",
      "execution_count": null,
      "metadata": {
        "id": "Rut2hyJQL3MY"
      },
      "outputs": [],
      "source": [
        ""
      ]
    },
    {
      "cell_type": "code",
      "execution_count": null,
      "metadata": {
        "id": "12dRA-KjL3MY"
      },
      "outputs": [],
      "source": [
        ""
      ]
    }
  ],
  "metadata": {
    "colab": {
      "collapsed_sections": [],
      "name": "Copy of Copy of stat542-proj.ipynb",
      "provenance": []
    },
    "kernelspec": {
      "display_name": "Python 3 (ipykernel)",
      "language": "python",
      "name": "python3"
    },
    "language_info": {
      "codemirror_mode": {
        "name": "ipython",
        "version": 3
      },
      "file_extension": ".py",
      "mimetype": "text/x-python",
      "name": "python",
      "nbconvert_exporter": "python",
      "pygments_lexer": "ipython3",
      "version": "3.9.7"
    }
  },
  "nbformat": 4,
  "nbformat_minor": 0
}